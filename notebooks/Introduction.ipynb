{
 "cells": [
  {
   "cell_type": "markdown",
   "metadata": {
    "collapsed": true
   },
   "source": [
    "# Introduction\n",
    "learn how to generate graphs given examples. \n",
    "\n",
    "Graphlearn has a fit and a sample stage. \n",
    "1. Fit: given graphs, train an estimator, collect graph fragments.\n",
    "2. Sample: given initial graphs, optimize by exchanging random fragments and scoring via the estimator.\n",
    "\n",
    "The graph fragments are organized in a grammar that groups interchangeable (congruent) subgraphs.\n",
    "The estimator is either a one or two class estimator. The Sampling process is adjustable, it might ensemble\n",
    "MCMC sampling, simulated annealing or just straight greedy improvement of graphs.\n",
    "\n",
    "See the last Notebook of this introduction for more details about the sampling process."
   ]
  },
  {
   "cell_type": "markdown",
   "metadata": {},
   "source": [
    "### Ipython Notebook init"
   ]
  },
  {
   "cell_type": "code",
   "execution_count": null,
   "metadata": {
    "collapsed": false
   },
   "outputs": [],
   "source": [
    "%load_ext autoreload\n",
    "%autoreload 2\n",
    "%matplotlib inline\n",
    "from eden.util import configure_logging\n",
    "import logging\n",
    "configure_logging(logging.getLogger(),verbosity=1) # use 2 for more info\n",
    "BABELDRAW=True"
   ]
  },
  {
   "cell_type": "markdown",
   "metadata": {},
   "source": [
    "# Fitting a sampler\n",
    "\n",
    "\n",
    "### Graph formats\n",
    "\n",
    "The sampler expects networkx graphs. Overview on supported graph formats:\n",
    "https://networkx.github.io/documentation/networkx-1.10/reference/readwrite.html.\n",
    "The eden package, that is required to run graphlearn, supports additional formats.\n",
    "\n",
    "We define get_graphs which will return an iterable over networkx graphs.\n",
    "\n",
    "\n",
    "\n",
    "### Fitting options\n",
    "\n",
    "##### sampler init:\n",
    "We see the default options for learning the grammar.\n",
    "these are not very optimized.\n",
    "\n",
    "You may provide a feasibility_checker that aproves all \n",
    "generated graphs. To exclude single nodes from the grammar, rendering them unchangeable, the node_entity_checker is interesting.\n",
    "\n",
    "##### fitting:\n",
    "Here a oneclass estimator will be used.\n",
    "You might also provide a second set of graphs\n",
    "or give a pretrained estimator in sampler init."
   ]
  },
  {
   "cell_type": "code",
   "execution_count": null,
   "metadata": {
    "collapsed": false
   },
   "outputs": [],
   "source": [
    "from eden.converter.graph.gspan import gspan_to_eden\n",
    "from itertools import islice\n",
    "def get_graphs(dataset_fname, size=100):\n",
    "    return  islice(gspan_to_eden(dataset_fname),size)\n",
    "\n",
    "dataset_fname = '../toolsdata/bursi.pos.gspan'"
   ]
  },
  {
   "cell_type": "code",
   "execution_count": null,
   "metadata": {
    "collapsed": false
   },
   "outputs": [],
   "source": [
    "%%time\n",
    "from graphlearn.graphlearn import  Sampler\n",
    "n_steps=60\n",
    "sampler=Sampler(\n",
    "            #vectorizer=Vectorizer(complexity=3),\n",
    "            random_state=None,\n",
    "            #estimator=estimate.OneClassEstimator(nu=.5, cv=2, n_jobs=-1),\n",
    "            #graphtransformer=transform.GraphTransformer(),\n",
    "            #feasibility_checker=feasibility.FeasibilityChecker(),\n",
    "            #decomposer=decompose.Decomposer(node_entity_check=lambda x, y:True, nbit=20),\n",
    "            #grammar=LocalSubstitutableGraphGrammar(radius_list=[0,1], thickness_list=[1,2], min_cip_count=2,min_interface_count=2),\n",
    "            n_steps=n_steps, \n",
    "            n_samples=4,\n",
    "            probabilistic_core_choice=True,\n",
    "            score_core_choice= False,\n",
    "            size_diff_core_filter=-1, # BROKEN\n",
    "            burnin=10,\n",
    "            include_seed=True,\n",
    "            proposal_probability = False,\n",
    "            improving_threshold_fraction=.5, \n",
    "            improving_linear_start_fraction=0.0,\n",
    "            accept_static_penalty=0.0,\n",
    "            n_jobs=4,\n",
    "            select_cip_max_tries=200,\n",
    "            keep_duplicates=True,  \n",
    "            monitor=True)\n",
    "\n",
    "decomposers = sampler.fit_make_decomposers( get_graphs(dataset_fname, size=200) )\n",
    "sampler.fit_grammar(decomposers)\n",
    "sampler.fit_estimator(decomposers)\n",
    "\n",
    "\n",
    "# lets look at a few stats about the trained sampler\n",
    "print('graph grammar stats:')\n",
    "n_instances, interface_counts, core_counts, cip_counts = sampler.grammar().size()\n",
    "print('#instances: %d   #interfaces: %d   #cores: %d   #core-interface-pairs: %d' % (n_instances, interface_counts, core_counts, cip_counts))\n",
    "\n",
    "# dumps the sampler for later use. This is not mandatory :) \n",
    "sampler.save('../tmp/sampler.ge')"
   ]
  },
  {
   "cell_type": "markdown",
   "metadata": {},
   "source": [
    "# Grammar Inspection\n",
    "\n",
    "If you are interested in the generated grammar, there are \n",
    "two useful tools available. \n",
    "You can draw the grammar directly, as seen below.\n",
    "draw_grammar_stats will collect statistics about the grammar and visualize them nicely."
   ]
  },
  {
   "cell_type": "code",
   "execution_count": null,
   "metadata": {
    "collapsed": false
   },
   "outputs": [],
   "source": [
    "from graphlearn.utils.draw import draw_grammar\n",
    "# draw one group of graph fragments (CIPS)\n",
    "draw_grammar(sampler.grammar().productions, contract=True,\n",
    "             n_productions=1,\n",
    "             n_graphs_per_line=5,\n",
    "             n_graphs_per_production=5,\n",
    "             size=5, \n",
    "             colormap='rainbow', \n",
    "             #node_border=1, \n",
    "             vertex_alpha=0.7, \n",
    "             edge_alpha=0.5)\n",
    "#from graphlearn.utils.draw import draw_grammar_stats\n",
    "#draw_grammar_stats(sampler.lsgg.productions, size=(10,5))"
   ]
  },
  {
   "cell_type": "markdown",
   "metadata": {},
   "source": [
    "# Sample\n",
    "\n",
    "Sampling with default options will work just fine if you are just interested\n",
    "in new graphs. The n_steps parameter defines \n",
    "how many attempts of altering a graph are made.\n",
    "\n",
    "##### Options that will influence the acceptance of a generated graph:\n",
    "\n",
    "In each sampling step, a graph is altered and scored.\n",
    "An accept function decides if we keep the new graph. The parameters listed here \n",
    "influence this acceptance function.\n",
    "\n",
    "improving_threshold=.5,\n",
    "after this fraction of steps, only improvements are accepted  ---\n",
    "improving_linear_start=0.0, \n",
    "graphs are accepted with a probability depending on their score. From this fraction it becomes gradually harder for worse graphs to be accepted. ---\n",
    "accept_static_penalty=0.0, \n",
    "graphs that are worse than their predecessors get this penalty (on top of the other two options).\n",
    "\n",
    "##### Options for choosing the new fragment:\n",
    "\n",
    "The fragment chosen for alteration can be influenced by the acceptable node parameter (see sampler init). \n",
    "In general it will be chosen randomly. The fragment it will be replaced with can be influenced however:\n",
    "\n",
    "probabilistic_core_choice=False, with this option we choose the fragment according to its frequency in the grammar.  ---\n",
    "score_core_choice= True, choose the fragment according to score ( given by estimator ), the better the score, the more likely it is for a fragment to be picked ---\n",
    "max_size_diff=1, maximum size difference between the seed graph and every graph generated graph. if choosing a fragment will violate the \n",
    "size constraints, it will not be selected.\n",
    "\n",
    "#####  Output multiple graphs (along the sample path):\n",
    "\n",
    "\n",
    "burnin=10, ignore the first burnin graphs for the nsamples parameter ---\n",
    "n_samples=n_samples, from burnin to end of sample, collect this many samples. ---\n",
    "keep_duplicates=True, duplicates may be deleted ---\n",
    "include_seed=True,  seed will be the first graph in the output list. \n",
    "\n",
    "##### Collect additional information during sampling, that may help debugging\n",
    "\n",
    "monitor=True, after sampling acessible via eg sampler.monitors[1][9] (first graph, ninth step)\n",
    "                        \n",
    "##### Output format \n",
    "sample() will yield a list of graph for each input graph."
   ]
  },
  {
   "cell_type": "code",
   "execution_count": null,
   "metadata": {
    "collapsed": false,
    "scrolled": false
   },
   "outputs": [],
   "source": [
    "%%time\n",
    "from itertools import islice\n",
    "from graphlearn.graphlearn import  Sampler\n",
    "#sampler=Sampler()\n",
    "#sampler.load('../tmp/sampler.ge')\n",
    "\n",
    "# picking graphs\n",
    "graphs = get_graphs(dataset_fname, size=100)\n",
    "id_start=50\n",
    "id_end=id_start+6\n",
    "input_graphs = islice(graphs,id_start,id_end)\n",
    "graphs = sampler.transform(input_graphs)"
   ]
  },
  {
   "cell_type": "code",
   "execution_count": null,
   "metadata": {
    "collapsed": false,
    "scrolled": false
   },
   "outputs": [],
   "source": [
    "%%time\n",
    "BABELDRAW=False\n",
    "# for each graphlist that is yielded by the sampler:\n",
    "scores=[]\n",
    "ids=range(id_start,id_end)\n",
    "for i,graphlist in enumerate(graphs):\n",
    "    \n",
    "    # collect scores of each graph that appeared during the sampling \n",
    "    print 'Graph id: %d'%(ids[i])\n",
    "    scores.append(sampler.monitors[i].sampling_info['score_history'])\n",
    "    \n",
    "    # choose a drawing method.\n",
    "    if BABELDRAW:\n",
    "        # babel draw looks nice, but may lack detail\n",
    "        from graphlearn.utils import molecule as mol\n",
    "        mol.draw(graphlist, n_graphs_per_line=3,smiles=True)\n",
    "    else:\n",
    "        from graphlearn.utils import draw\n",
    "        # graphlearns drawing method is offering many options\n",
    "        draw.graphlearn(graphlist,\n",
    "                        contract=True,\n",
    "                        n_graphs_per_line=6, \n",
    "                        size=5, \n",
    "                        colormap='Paired', \n",
    "                        invert_colormap=False,\n",
    "                        #node_border=0.5, \n",
    "                        title_key='score',\n",
    "                        vertex_color='_labels_',\n",
    "                        vertex_alpha=0.5, \n",
    "                        edge_alpha=0.2)"
   ]
  },
  {
   "cell_type": "markdown",
   "metadata": {},
   "source": [
    "# Show sample score history"
   ]
  },
  {
   "cell_type": "code",
   "execution_count": null,
   "metadata": {
    "collapsed": false,
    "scrolled": false
   },
   "outputs": [],
   "source": [
    "%%time\n",
    "from itertools import islice\n",
    "import numpy as np\n",
    "import pylab as plt\n",
    "\n",
    "\n",
    "step=1\n",
    "num_graphs_per_plot=3\n",
    "num_plots=np.ceil([len(scores)/num_graphs_per_plot])\n",
    "\n",
    "for i in range(num_plots):\n",
    "    plt.figure(figsize=(13,5))\n",
    "    for j,score in enumerate(scores[i*num_graphs_per_plot:i*num_graphs_per_plot+num_graphs_per_plot]):\n",
    "     \n",
    "        data = list(islice(score,None, None, step))\n",
    "        plt.plot(data, linewidth=2, label='graph %d'%(j+i*num_graphs_per_plot+id_start))\n",
    "        #plt.plot(data, linestyle='None', markerfacecolor='white', marker='o', markeredgewidth=2,markersize=6) # markevery=n_steps/(n_samples),\n",
    "    plt.legend(loc='lower right')\n",
    "    plt.grid()\n",
    "    plt.xlim(-1,n_steps+1)\n",
    "    plt.ylim(-0.1,1.1)\n",
    "    plt.show()"
   ]
  },
  {
   "cell_type": "markdown",
   "metadata": {},
   "source": [
    "---"
   ]
  },
  {
   "cell_type": "code",
   "execution_count": null,
   "metadata": {
    "collapsed": false
   },
   "outputs": [],
   "source": []
  },
  {
   "cell_type": "code",
   "execution_count": null,
   "metadata": {
    "collapsed": false
   },
   "outputs": [],
   "source": []
  },
  {
   "cell_type": "code",
   "execution_count": null,
   "metadata": {
    "collapsed": true
   },
   "outputs": [],
   "source": []
  }
 ],
 "metadata": {
  "kernelspec": {
   "display_name": "Python 2",
   "language": "python",
   "name": "python2"
  },
  "language_info": {
   "codemirror_mode": {
    "name": "ipython",
    "version": 2
   },
   "file_extension": ".py",
   "mimetype": "text/x-python",
   "name": "python",
   "nbconvert_exporter": "python",
   "pygments_lexer": "ipython2",
   "version": "2.7.11+"
  }
 },
 "nbformat": 4,
 "nbformat_minor": 0
}
