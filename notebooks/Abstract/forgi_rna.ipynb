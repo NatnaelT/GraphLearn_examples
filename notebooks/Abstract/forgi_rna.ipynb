{
 "cells": [
  {
   "cell_type": "markdown",
   "metadata": {
    "collapsed": false,
    "deletable": true,
    "editable": true
   },
   "source": [
    "## sampling RNA, with secondary structure elements to induce graph minor "
   ]
  },
  {
   "cell_type": "markdown",
   "metadata": {
    "deletable": true,
    "editable": true
   },
   "source": [
    "#### initialize"
   ]
  },
  {
   "cell_type": "code",
   "execution_count": null,
   "metadata": {
    "collapsed": false,
    "deletable": true,
    "editable": true
   },
   "outputs": [],
   "source": [
    "%load_ext autoreload\n",
    "%autoreload 2\n",
    "%matplotlib inline\n",
    "from eden.util import configure_logging\n",
    "import logging\n",
    "\n",
    "\n",
    "DEBUG=False\n",
    "NJOBS=4\n",
    "if DEBUG: NJOBS=1\n",
    "configure_logging(logging.getLogger(),verbosity=+DEBUG)"
   ]
  },
  {
   "cell_type": "markdown",
   "metadata": {
    "deletable": true,
    "editable": true
   },
   "source": [
    "#### GET RNA DATA"
   ]
  },
  {
   "cell_type": "code",
   "execution_count": null,
   "metadata": {
    "collapsed": false,
    "deletable": true,
    "editable": true
   },
   "outputs": [],
   "source": [
    "#from eden.converter.fasta import fasta_to_sequence\n",
    "from eden_rna.io.fasta import load \n",
    "import itertools\n",
    "\n",
    "def rfam_uri(family_id):\n",
    "    return 'http://rfam.xfam.org/family/%s/alignment?acc=%s&format=fastau&download=0'%(family_id,family_id)\n",
    "def rfam_uri(family_id):\n",
    "    return '%s.fa'%(family_id)\n",
    "\n",
    "def get_sequences(size=9999,withoutnames=False):\n",
    "    sequences = itertools.islice( load(\"../../toolsdata/RF00005.fa\"), size)\n",
    "    if withoutnames:\n",
    "        return [ b for (a,b) in sequences ]\n",
    "    return sequences"
   ]
  },
  {
   "cell_type": "markdown",
   "metadata": {
    "deletable": true,
    "editable": true
   },
   "source": [
    "## TESTING EXTRACTION AND GRAPHMANAGER"
   ]
  },
  {
   "cell_type": "code",
   "execution_count": null,
   "metadata": {
    "collapsed": false,
    "deletable": true,
    "editable": true,
    "scrolled": false
   },
   "outputs": [],
   "source": [
    "'''\n",
    "from graphlearn.utils import draw\n",
    "import graphlearn.minor.rna as rna\n",
    "#forgitransform as forgitransform\n",
    "#import graphlearn.abstract_graphs.rna.rnadecomposer as decompose\n",
    "\n",
    "\n",
    "from graphlearn.graphlearn import Sampler as GLS\n",
    "from eden.graph import Vectorizer\n",
    "vectorizer=Vectorizer()\n",
    "\n",
    "\n",
    "make_decomposer = lambda x,y: rna.rnadecomposer.RnaDecomposer(x,y,\n",
    "                       include_base=False,\n",
    "                       base_thickness_list=[2])\n",
    "\n",
    "pp=rna.forgitransform.GraphTransformerForgi()\n",
    "pp.fit(get_sequences(),vectorizer)\n",
    "\n",
    "graphmanagers=[make_decomposer(vectorizer,x) for x in pp.transform(get_sequences(withoutnames=True)[:20])]\n",
    "\n",
    "print 'DEMONSTRATING GRAPH MANAGER'\n",
    "\n",
    "for i in [4]:\n",
    "    print 'grammar example %d' % i\n",
    "    gm=graphmanagers[i]\n",
    "    g=gm.pre_vectorizer_graph(nested=True)\n",
    "    draw.graphlearn([gm.pre_vectorizer_graph(nested=True),gm.abstract_graph(),gm.base_graph()], size = 15,vertex_label = 'label',contract=False)\n",
    "    draw.graphlearn([gm.base_graph()], size = 15,vertex_label = 'label',contract=True)\n",
    "    \n",
    "    print gm.sequence\n",
    "    print gm.structure\n",
    "'''"
   ]
  },
  {
   "cell_type": "markdown",
   "metadata": {
    "collapsed": false,
    "deletable": true,
    "editable": true,
    "scrolled": false
   },
   "source": [
    "## creating grammar and estimator"
   ]
  },
  {
   "cell_type": "code",
   "execution_count": null,
   "metadata": {
    "collapsed": false,
    "deletable": true,
    "editable": true,
    "scrolled": false
   },
   "outputs": [],
   "source": [
    "%%time\n",
    "import graphlearn.minor.rna.infernal as infernal\n",
    "from  graphlearn.feasibility import FeasibilityChecker as Checker\n",
    "import graphlearn.estimate as estimate\n",
    "from graphlearn.minor.rna import forgitransform as forgitransform\n",
    "#from graphlearn.minor.decompose import MinorDecomposer\n",
    "from graphlearn.minor.rna.rnadecomposer import RnaDecomposer\n",
    "# not really needed since after refolding we get an RNA\n",
    "#feasibility=Checker()\n",
    "#feasibility.checklist.append(rna.is_rna)\n",
    "graphs = get_sequences(size=100)\n",
    "\n",
    "estimator=estimate.OneClassEstimator( nu=.33, cv=2, n_jobs=-1)\n",
    "\n",
    "sampler=infernal.AbstractSampler(\n",
    "                            #radius_list=[0,1],\n",
    "                            #thickness_list=[2],\n",
    "                            #min_cip_count=1,\n",
    "                            #min_interface_count=2,\n",
    "                            graphtransformer=forgitransform.GraphTransformerForgi(),\n",
    "                            decomposer=RnaDecomposer(output_sequence=True,\n",
    "                                                     pre_vectorizer_rm_f=True),\n",
    "                            #estimator=estimator\n",
    "                            #feasibility_checker=feasibility\n",
    "                            include_seed=True\n",
    "                           )\n",
    "\n",
    "sampler.fit(graphs)\n",
    "graphs = get_sequences(size=5,withoutnames=True)\n",
    "r= list( sampler.transform(graphs))"
   ]
  },
  {
   "cell_type": "code",
   "execution_count": null,
   "metadata": {
    "collapsed": false,
    "deletable": true,
    "editable": true,
    "scrolled": false
   },
   "outputs": [],
   "source": [
    "#draw production rules\n",
    "from graphlearn.utils import draw\n",
    "draw.draw_grammar(sampler.lsgg.productions,n_productions=5,n_graphs_per_production=5,\n",
    "                     n_graphs_per_line=6, size=10, contract=False,\n",
    "                     colormap='Paired', invert_colormap=False,\n",
    "                     vertex_alpha=0.6, edge_alpha=0.5, abstract_interface=True)"
   ]
  },
  {
   "cell_type": "markdown",
   "metadata": {
    "deletable": true,
    "editable": true
   },
   "source": [
    "## Sample"
   ]
  },
  {
   "cell_type": "code",
   "execution_count": null,
   "metadata": {
    "collapsed": false,
    "deletable": true,
    "editable": true,
    "scrolled": false
   },
   "outputs": [],
   "source": [
    "%%time\n",
    "import graphlearn.utils.draw as draw\n",
    "import itertools\n",
    "\n",
    "# parameters and data\n",
    "sequences = get_sequences(withoutnames=True)\n",
    "id_start=66\n",
    "id_end=id_start+3\n",
    "sequences = sequences[id_start:id_end]\n",
    "n_steps=50\n",
    "\n",
    "\n",
    "\n",
    "\n",
    "\n",
    "#from eden_extra.modifier.graph.vertex_attributes import colorize\n",
    "\n",
    "\n",
    "scores=[]\n",
    "sequences=[]\n",
    "ids=range(id_start,id_end)\n",
    "\n",
    "for i,graphlist in enumerate(r):\n",
    "    #print 'Graph id: %d'%(ids[i])\n",
    "    scores.append(sampler.monitors[i].sampling_info['score_history'])\n",
    "    sequences.append(sampler.monitors[i].sampling_info['notes'])\n",
    "    #path_graphs = colorize(graphlist,\n",
    "    #                       output_attribute = 'color_level', \n",
    "    #                       labels = ['A','U','G','C'])\n",
    "    print 'going to draw'\n",
    "    print graphlist\n",
    "    if False:\n",
    "        draw.graphlearn(graphlist,\n",
    "                           n_graphs_per_line=3, size=20, contract=True,\n",
    "                           colormap='Paired', invert_colormap=False, vertex_color='color_level',\n",
    "                           vertex_alpha=0.5, edge_alpha=0.7, edge_label='label', layout=\"RNA\")"
   ]
  },
  {
   "cell_type": "markdown",
   "metadata": {
    "collapsed": false,
    "deletable": true,
    "editable": true
   },
   "source": [
    "## draw the score history for each of the graphsv"
   ]
  },
  {
   "cell_type": "code",
   "execution_count": null,
   "metadata": {
    "collapsed": false,
    "deletable": true,
    "editable": true,
    "scrolled": false
   },
   "outputs": [],
   "source": [
    "colors=['b','g','r','c','m','y','k','w']\n",
    "\n",
    "%matplotlib inline\n",
    "from itertools import islice\n",
    "import matplotlib.pyplot as plt\n",
    "import numpy as np\n",
    "step=1\n",
    "num_graphs_per_plot=2\n",
    "num_plots=np.ceil([len(scores)/num_graphs_per_plot])\n",
    "for i in range(num_plots):\n",
    "    plt.figure(figsize=(10,5))\n",
    "    for j,score in enumerate(scores[i*num_graphs_per_plot:i*num_graphs_per_plot+num_graphs_per_plot]):\n",
    "        data = list(islice(score,None, None, step))\n",
    "        plt.plot(data,ls='-',color=colors[j], label='graph %d'%(j+i*num_graphs_per_plot+id_start))\n",
    "\n",
    "        # okok now we need to add the infernal evaluation\n",
    "        seqs=sequences[i*num_graphs_per_plot+j]\n",
    "        seqs=seqs.split('n')\n",
    "        \n",
    "        # SEQUENCES STILL CONTAIN F, ALSO THERE ARE ERRORMESSAGES AT THE END OF INFO\n",
    "        #seqs=seqs[:-1]\n",
    "    \n",
    "        #print seqs\n",
    "        data2= infernal.infernal_checker(seqs,cmfile='../rf00005.cm')\n",
    "        #print data2,seqs\n",
    "        plt.plot(data2,ls='--',color=colors[j], label='infernal %d'%(j+i*num_graphs_per_plot+id_start))\n",
    "    plt.plot([0.29]*len(data2),ls='-.',color='r', label='significance') #| '-' | '--' | '-.' | ':' | 'None' | ' ' |\n",
    "    plt.legend(loc='lower left',framealpha=0.5)\n",
    "    plt.grid()\n",
    "    plt.ylim(-0.1,1.1)\n",
    "    plt.show()"
   ]
  },
  {
   "cell_type": "code",
   "execution_count": null,
   "metadata": {
    "collapsed": true,
    "deletable": true,
    "editable": true
   },
   "outputs": [],
   "source": []
  },
  {
   "cell_type": "code",
   "execution_count": null,
   "metadata": {
    "collapsed": false,
    "deletable": true,
    "editable": true
   },
   "outputs": [],
   "source": [
    "import sys\n",
    "sys.path"
   ]
  },
  {
   "cell_type": "code",
   "execution_count": null,
   "metadata": {
    "collapsed": true,
    "deletable": true,
    "editable": true
   },
   "outputs": [],
   "source": []
  },
  {
   "cell_type": "code",
   "execution_count": null,
   "metadata": {
    "collapsed": true,
    "deletable": true,
    "editable": true
   },
   "outputs": [],
   "source": []
  },
  {
   "cell_type": "code",
   "execution_count": null,
   "metadata": {
    "collapsed": true,
    "deletable": true,
    "editable": true
   },
   "outputs": [],
   "source": []
  },
  {
   "cell_type": "code",
   "execution_count": null,
   "metadata": {
    "collapsed": false,
    "deletable": true,
    "editable": true
   },
   "outputs": [],
   "source": [
    "print r"
   ]
  },
  {
   "cell_type": "code",
   "execution_count": null,
   "metadata": {
    "collapsed": true
   },
   "outputs": [],
   "source": []
  }
 ],
 "metadata": {
  "kernelspec": {
   "display_name": "Python 2",
   "language": "python",
   "name": "python2"
  },
  "language_info": {
   "codemirror_mode": {
    "name": "ipython",
    "version": 2
   },
   "file_extension": ".py",
   "mimetype": "text/x-python",
   "name": "python",
   "nbconvert_exporter": "python",
   "pygments_lexer": "ipython2",
   "version": "2.7.12"
  }
 },
 "nbformat": 4,
 "nbformat_minor": 0
}
