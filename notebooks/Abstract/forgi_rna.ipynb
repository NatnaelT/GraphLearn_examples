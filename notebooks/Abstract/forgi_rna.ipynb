{
 "cells": [
  {
   "cell_type": "markdown",
   "metadata": {
    "collapsed": false,
    "deletable": true,
    "editable": true
   },
   "source": [
    "## sampling RNA, with secondary structure elements to induce graph minor "
   ]
  },
  {
   "cell_type": "markdown",
   "metadata": {
    "deletable": true,
    "editable": true
   },
   "source": [
    "#### initialize"
   ]
  },
  {
   "cell_type": "code",
   "execution_count": 1,
   "metadata": {
    "collapsed": false,
    "deletable": true,
    "editable": true
   },
   "outputs": [],
   "source": [
    "%load_ext autoreload\n",
    "%autoreload 2\n",
    "%matplotlib inline\n",
    "from eden.util import configure_logging\n",
    "import logging\n",
    "\n",
    "\n",
    "DEBUG=False\n",
    "NJOBS=4\n",
    "if DEBUG: NJOBS=1\n",
    "configure_logging(logging.getLogger(),verbosity=+DEBUG)"
   ]
  },
  {
   "cell_type": "markdown",
   "metadata": {
    "deletable": true,
    "editable": true
   },
   "source": [
    "#### GET RNA DATA"
   ]
  },
  {
   "cell_type": "code",
   "execution_count": 2,
   "metadata": {
    "collapsed": false,
    "deletable": true,
    "editable": true
   },
   "outputs": [],
   "source": [
    "#from eden.converter.fasta import fasta_to_sequence\n",
    "from eden_rna.io.fasta import load \n",
    "import itertools\n",
    "\n",
    "def rfam_uri(family_id):\n",
    "    return 'http://rfam.xfam.org/family/%s/alignment?acc=%s&format=fastau&download=0'%(family_id,family_id)\n",
    "def rfam_uri(family_id):\n",
    "    return '%s.fa'%(family_id)\n",
    "\n",
    "def get_sequences(size=9999,withoutnames=False):\n",
    "    sequences = itertools.islice( load(\"../../toolsdata/RF00005.fa\"), size)\n",
    "    if withoutnames:\n",
    "        return [ b for (a,b) in sequences ]\n",
    "    return sequences"
   ]
  },
  {
   "cell_type": "markdown",
   "metadata": {
    "deletable": true,
    "editable": true
   },
   "source": [
    "## TESTING EXTRACTION AND GRAPHMANAGER"
   ]
  },
  {
   "cell_type": "code",
   "execution_count": 3,
   "metadata": {
    "collapsed": false,
    "deletable": true,
    "editable": true,
    "scrolled": false
   },
   "outputs": [
    {
     "data": {
      "text/plain": [
       "\"\\nfrom graphlearn.utils import draw\\nimport graphlearn.minor.rna as rna\\n#forgitransform as forgitransform\\n#import graphlearn.abstract_graphs.rna.rnadecomposer as decompose\\n\\n\\nfrom graphlearn.graphlearn import Sampler as GLS\\nfrom eden.graph import Vectorizer\\nvectorizer=Vectorizer()\\n\\n\\nmake_decomposer = lambda x,y: rna.rnadecomposer.RnaDecomposer(x,y,\\n                       include_base=False,\\n                       base_thickness_list=[2])\\n\\npp=rna.forgitransform.GraphTransformerForgi()\\npp.fit(get_sequences(),vectorizer)\\n\\ngraphmanagers=[make_decomposer(vectorizer,x) for x in pp.transform(get_sequences(withoutnames=True)[:20])]\\n\\nprint 'DEMONSTRATING GRAPH MANAGER'\\n\\nfor i in [4]:\\n    print 'grammar example %d' % i\\n    gm=graphmanagers[i]\\n    g=gm.pre_vectorizer_graph(nested=True)\\n    draw.graphlearn([gm.pre_vectorizer_graph(nested=True),gm.abstract_graph(),gm.base_graph()], size = 15,vertex_label = 'label',contract=False)\\n    draw.graphlearn([gm.base_graph()], size = 15,vertex_label = 'label',contract=True)\\n    \\n    print gm.sequence\\n    print gm.structure\\n\""
      ]
     },
     "execution_count": 3,
     "metadata": {},
     "output_type": "execute_result"
    }
   ],
   "source": [
    "'''\n",
    "from graphlearn.utils import draw\n",
    "import graphlearn.minor.rna as rna\n",
    "#forgitransform as forgitransform\n",
    "#import graphlearn.abstract_graphs.rna.rnadecomposer as decompose\n",
    "\n",
    "\n",
    "from graphlearn.graphlearn import Sampler as GLS\n",
    "from eden.graph import Vectorizer\n",
    "vectorizer=Vectorizer()\n",
    "\n",
    "\n",
    "make_decomposer = lambda x,y: rna.rnadecomposer.RnaDecomposer(x,y,\n",
    "                       include_base=False,\n",
    "                       base_thickness_list=[2])\n",
    "\n",
    "pp=rna.forgitransform.GraphTransformerForgi()\n",
    "pp.fit(get_sequences(),vectorizer)\n",
    "\n",
    "graphmanagers=[make_decomposer(vectorizer,x) for x in pp.transform(get_sequences(withoutnames=True)[:20])]\n",
    "\n",
    "print 'DEMONSTRATING GRAPH MANAGER'\n",
    "\n",
    "for i in [4]:\n",
    "    print 'grammar example %d' % i\n",
    "    gm=graphmanagers[i]\n",
    "    g=gm.pre_vectorizer_graph(nested=True)\n",
    "    draw.graphlearn([gm.pre_vectorizer_graph(nested=True),gm.abstract_graph(),gm.base_graph()], size = 15,vertex_label = 'label',contract=False)\n",
    "    draw.graphlearn([gm.base_graph()], size = 15,vertex_label = 'label',contract=True)\n",
    "    \n",
    "    print gm.sequence\n",
    "    print gm.structure\n",
    "'''"
   ]
  },
  {
   "cell_type": "markdown",
   "metadata": {
    "collapsed": false,
    "deletable": true,
    "editable": true,
    "scrolled": false
   },
   "source": [
    "## creating grammar and estimator"
   ]
  },
  {
   "cell_type": "code",
   "execution_count": 7,
   "metadata": {
    "collapsed": false,
    "deletable": true,
    "editable": true,
    "scrolled": false
   },
   "outputs": [
    {
     "ename": "TypeError",
     "evalue": "fit() takes exactly 2 arguments (4 given)",
     "output_type": "error",
     "traceback": [
      "\u001b[0;31m---------------------------------------------------------------------------\u001b[0m",
      "\u001b[0;31mTypeError\u001b[0m                                 Traceback (most recent call last)",
      "\u001b[0;32m<ipython-input-7-1e25c6933359>\u001b[0m in \u001b[0;36m<module>\u001b[0;34m()\u001b[0m\n\u001b[0;32m----> 1\u001b[0;31m \u001b[0mget_ipython\u001b[0m\u001b[0;34m(\u001b[0m\u001b[0;34m)\u001b[0m\u001b[0;34m.\u001b[0m\u001b[0mrun_cell_magic\u001b[0m\u001b[0;34m(\u001b[0m\u001b[0;34mu'time'\u001b[0m\u001b[0;34m,\u001b[0m \u001b[0;34mu''\u001b[0m\u001b[0;34m,\u001b[0m \u001b[0;34mu'\\nfrom  graphlearn.feasibility import FeasibilityChecker as Checker\\nimport graphlearn.estimate as estimate\\n\\n#from graphlearn.minor.decompose import MinorDecomposer\\n\\n# not really needed since after refolding we get an RNA\\n#feasibility=Checker()\\n#feasibility.checklist.append(rna.is_rna)\\ngraphs = get_sequences(size=100)\\n\\nestimator=estimate.OneClassEstimator( nu=.33, cv=2, n_jobs=-1)\\n\\nfrom graphlearn.minor.rna.rnadecomposer import RnaDecomposer\\nimport graphlearn.minor.rna.infernal as infernal\\nfrom graphlearn.minor.rna import forgitransform as forgitransform\\nfrom graphlearn.minor.rna import rnatransform as rnatrans\\nsampler=infernal.AbstractSampler(\\n                            #radius_list=[0,1],\\n                            #thickness_list=[2],\\n                            #min_cip_count=1,\\n                            #min_interface_count=2,\\n                            #################################  we need a learned transformer... \\n                            graphtransformer=rnatrans.learnedRnaTransformer(),#forgitransform.GraphTransformerForgi(fold_only=True), \\n                            decomposer=rnatrans.learnedRnaDedomposer(),#RnaDecomposer(output_sequence=True,pre_vectorizer_rm_f=True),\\n                            #estimator=estimator\\n                            #feasibility_checker=feasibility\\n                            include_seed=False\\n                           )\\n\\nsampler.fit(graphs)\\ngraphs = get_sequences(size=5,withoutnames=True)\\nr= list( sampler.transform(graphs))'\u001b[0m\u001b[0;34m)\u001b[0m\u001b[0;34m\u001b[0m\u001b[0m\n\u001b[0m",
      "\u001b[0;32m/home/ikea/.local/lib/python2.7/site-packages/IPython/core/interactiveshell.pyc\u001b[0m in \u001b[0;36mrun_cell_magic\u001b[0;34m(self, magic_name, line, cell)\u001b[0m\n\u001b[1;32m   2113\u001b[0m             \u001b[0mmagic_arg_s\u001b[0m \u001b[0;34m=\u001b[0m \u001b[0mself\u001b[0m\u001b[0;34m.\u001b[0m\u001b[0mvar_expand\u001b[0m\u001b[0;34m(\u001b[0m\u001b[0mline\u001b[0m\u001b[0;34m,\u001b[0m \u001b[0mstack_depth\u001b[0m\u001b[0;34m)\u001b[0m\u001b[0;34m\u001b[0m\u001b[0m\n\u001b[1;32m   2114\u001b[0m             \u001b[0;32mwith\u001b[0m \u001b[0mself\u001b[0m\u001b[0;34m.\u001b[0m\u001b[0mbuiltin_trap\u001b[0m\u001b[0;34m:\u001b[0m\u001b[0;34m\u001b[0m\u001b[0m\n\u001b[0;32m-> 2115\u001b[0;31m                 \u001b[0mresult\u001b[0m \u001b[0;34m=\u001b[0m \u001b[0mfn\u001b[0m\u001b[0;34m(\u001b[0m\u001b[0mmagic_arg_s\u001b[0m\u001b[0;34m,\u001b[0m \u001b[0mcell\u001b[0m\u001b[0;34m)\u001b[0m\u001b[0;34m\u001b[0m\u001b[0m\n\u001b[0m\u001b[1;32m   2116\u001b[0m             \u001b[0;32mreturn\u001b[0m \u001b[0mresult\u001b[0m\u001b[0;34m\u001b[0m\u001b[0m\n\u001b[1;32m   2117\u001b[0m \u001b[0;34m\u001b[0m\u001b[0m\n",
      "\u001b[0;32m<decorator-gen-59>\u001b[0m in \u001b[0;36mtime\u001b[0;34m(self, line, cell, local_ns)\u001b[0m\n",
      "\u001b[0;32m/home/ikea/.local/lib/python2.7/site-packages/IPython/core/magic.pyc\u001b[0m in \u001b[0;36m<lambda>\u001b[0;34m(f, *a, **k)\u001b[0m\n\u001b[1;32m    186\u001b[0m     \u001b[0;31m# but it's overkill for just that one bit of state.\u001b[0m\u001b[0;34m\u001b[0m\u001b[0;34m\u001b[0m\u001b[0m\n\u001b[1;32m    187\u001b[0m     \u001b[0;32mdef\u001b[0m \u001b[0mmagic_deco\u001b[0m\u001b[0;34m(\u001b[0m\u001b[0marg\u001b[0m\u001b[0;34m)\u001b[0m\u001b[0;34m:\u001b[0m\u001b[0;34m\u001b[0m\u001b[0m\n\u001b[0;32m--> 188\u001b[0;31m         \u001b[0mcall\u001b[0m \u001b[0;34m=\u001b[0m \u001b[0;32mlambda\u001b[0m \u001b[0mf\u001b[0m\u001b[0;34m,\u001b[0m \u001b[0;34m*\u001b[0m\u001b[0ma\u001b[0m\u001b[0;34m,\u001b[0m \u001b[0;34m**\u001b[0m\u001b[0mk\u001b[0m\u001b[0;34m:\u001b[0m \u001b[0mf\u001b[0m\u001b[0;34m(\u001b[0m\u001b[0;34m*\u001b[0m\u001b[0ma\u001b[0m\u001b[0;34m,\u001b[0m \u001b[0;34m**\u001b[0m\u001b[0mk\u001b[0m\u001b[0;34m)\u001b[0m\u001b[0;34m\u001b[0m\u001b[0m\n\u001b[0m\u001b[1;32m    189\u001b[0m \u001b[0;34m\u001b[0m\u001b[0m\n\u001b[1;32m    190\u001b[0m         \u001b[0;32mif\u001b[0m \u001b[0mcallable\u001b[0m\u001b[0;34m(\u001b[0m\u001b[0marg\u001b[0m\u001b[0;34m)\u001b[0m\u001b[0;34m:\u001b[0m\u001b[0;34m\u001b[0m\u001b[0m\n",
      "\u001b[0;32m/home/ikea/.local/lib/python2.7/site-packages/IPython/core/magics/execution.pyc\u001b[0m in \u001b[0;36mtime\u001b[0;34m(self, line, cell, local_ns)\u001b[0m\n\u001b[1;32m   1183\u001b[0m         \u001b[0;32melse\u001b[0m\u001b[0;34m:\u001b[0m\u001b[0;34m\u001b[0m\u001b[0m\n\u001b[1;32m   1184\u001b[0m             \u001b[0mst\u001b[0m \u001b[0;34m=\u001b[0m \u001b[0mclock2\u001b[0m\u001b[0;34m(\u001b[0m\u001b[0;34m)\u001b[0m\u001b[0;34m\u001b[0m\u001b[0m\n\u001b[0;32m-> 1185\u001b[0;31m             \u001b[0;32mexec\u001b[0m\u001b[0;34m(\u001b[0m\u001b[0mcode\u001b[0m\u001b[0;34m,\u001b[0m \u001b[0mglob\u001b[0m\u001b[0;34m,\u001b[0m \u001b[0mlocal_ns\u001b[0m\u001b[0;34m)\u001b[0m\u001b[0;34m\u001b[0m\u001b[0m\n\u001b[0m\u001b[1;32m   1186\u001b[0m             \u001b[0mend\u001b[0m \u001b[0;34m=\u001b[0m \u001b[0mclock2\u001b[0m\u001b[0;34m(\u001b[0m\u001b[0;34m)\u001b[0m\u001b[0;34m\u001b[0m\u001b[0m\n\u001b[1;32m   1187\u001b[0m             \u001b[0mout\u001b[0m \u001b[0;34m=\u001b[0m \u001b[0mNone\u001b[0m\u001b[0;34m\u001b[0m\u001b[0m\n",
      "\u001b[0;32m<timed exec>\u001b[0m in \u001b[0;36m<module>\u001b[0;34m()\u001b[0m\n",
      "\u001b[0;32m/home/ikea/GRAPHLEARN/GraphLearn/graphlearn/graphlearn.pyc\u001b[0m in \u001b[0;36mfit\u001b[0;34m(self, graphs)\u001b[0m\n\u001b[1;32m    422\u001b[0m     \u001b[0;32mdef\u001b[0m \u001b[0mfit\u001b[0m\u001b[0;34m(\u001b[0m\u001b[0mself\u001b[0m\u001b[0;34m,\u001b[0m \u001b[0mgraphs\u001b[0m\u001b[0;34m)\u001b[0m\u001b[0;34m:\u001b[0m\u001b[0;34m\u001b[0m\u001b[0m\n\u001b[1;32m    423\u001b[0m         decomposers = [self.decomposer.make_new_decomposer(data)\n\u001b[0;32m--> 424\u001b[0;31m                        for data in self.graph_transformer.fit_transform(graphs)]\n\u001b[0m\u001b[1;32m    425\u001b[0m         \u001b[0mself\u001b[0m\u001b[0;34m.\u001b[0m\u001b[0mfit_grammar\u001b[0m\u001b[0;34m(\u001b[0m\u001b[0mdecomposers\u001b[0m\u001b[0;34m)\u001b[0m\u001b[0;34m\u001b[0m\u001b[0m\n\u001b[1;32m    426\u001b[0m         \u001b[0mself\u001b[0m\u001b[0;34m.\u001b[0m\u001b[0mfit_estimator\u001b[0m\u001b[0;34m(\u001b[0m\u001b[0mdecomposers\u001b[0m\u001b[0;34m)\u001b[0m\u001b[0;34m\u001b[0m\u001b[0m\n",
      "\u001b[0;32m/home/ikea/GRAPHLEARN/GraphLearn/graphlearn/learnedlayer/transform.pyc\u001b[0m in \u001b[0;36mfit_transform\u001b[0;34m(self, inputs, inputs_neg)\u001b[0m\n\u001b[1;32m    127\u001b[0m \u001b[0;34m\u001b[0m\u001b[0m\n\u001b[1;32m    128\u001b[0m     \u001b[0;32mdef\u001b[0m \u001b[0mfit_transform\u001b[0m\u001b[0;34m(\u001b[0m\u001b[0mself\u001b[0m\u001b[0;34m,\u001b[0m \u001b[0minputs\u001b[0m\u001b[0;34m,\u001b[0m \u001b[0minputs_neg\u001b[0m\u001b[0;34m=\u001b[0m\u001b[0;34m[\u001b[0m\u001b[0;34m]\u001b[0m\u001b[0;34m)\u001b[0m\u001b[0;34m:\u001b[0m\u001b[0;34m\u001b[0m\u001b[0m\n\u001b[0;32m--> 129\u001b[0;31m         \u001b[0;32mreturn\u001b[0m \u001b[0mself\u001b[0m\u001b[0;34m.\u001b[0m\u001b[0mfit\u001b[0m\u001b[0;34m(\u001b[0m\u001b[0minputs\u001b[0m\u001b[0;34m,\u001b[0m \u001b[0minputs_neg\u001b[0m\u001b[0;34m,\u001b[0m \u001b[0mfit_transform\u001b[0m\u001b[0;34m=\u001b[0m\u001b[0mTrue\u001b[0m\u001b[0;34m)\u001b[0m\u001b[0;34m\u001b[0m\u001b[0m\n\u001b[0m\u001b[1;32m    130\u001b[0m \u001b[0;34m\u001b[0m\u001b[0m\n\u001b[1;32m    131\u001b[0m     \u001b[0;32mdef\u001b[0m \u001b[0mre_transform_single\u001b[0m\u001b[0;34m(\u001b[0m\u001b[0mself\u001b[0m\u001b[0;34m,\u001b[0m \u001b[0mgraph\u001b[0m\u001b[0;34m)\u001b[0m\u001b[0;34m:\u001b[0m\u001b[0;34m\u001b[0m\u001b[0m\n",
      "\u001b[0;31mTypeError\u001b[0m: fit() takes exactly 2 arguments (4 given)"
     ]
    }
   ],
   "source": [
    "%%time\n",
    "\n",
    "from  graphlearn.feasibility import FeasibilityChecker as Checker\n",
    "import graphlearn.estimate as estimate\n",
    "\n",
    "#from graphlearn.minor.decompose import MinorDecomposer\n",
    "\n",
    "# not really needed since after refolding we get an RNA\n",
    "#feasibility=Checker()\n",
    "#feasibility.checklist.append(rna.is_rna)\n",
    "graphs = get_sequences(size=100)\n",
    "\n",
    "estimator=estimate.OneClassEstimator( nu=.33, cv=2, n_jobs=-1)\n",
    "\n",
    "from graphlearn.minor.rna.rnadecomposer import RnaDecomposer\n",
    "import graphlearn.minor.rna.infernal as infernal\n",
    "from graphlearn.minor.rna import forgitransform as forgitransform\n",
    "from graphlearn.minor.rna import rnatransform as rnatrans\n",
    "sampler=infernal.AbstractSampler(\n",
    "                            #radius_list=[0,1],\n",
    "                            #thickness_list=[2],\n",
    "                            #min_cip_count=1,\n",
    "                            #min_interface_count=2,\n",
    "                            #################################  we need a learned transformer... \n",
    "                            graphtransformer=rnatrans.learnedRnaTransformer(),#forgitransform.GraphTransformerForgi(fold_only=True), \n",
    "                            decomposer=rnatrans.learnedRnaDedomposer(),#RnaDecomposer(output_sequence=True,pre_vectorizer_rm_f=True),\n",
    "                            #estimator=estimator\n",
    "                            #feasibility_checker=feasibility\n",
    "                            include_seed=False\n",
    "                           )\n",
    "\n",
    "sampler.fit(graphs)\n",
    "graphs = get_sequences(size=5,withoutnames=True)\n",
    "r= list( sampler.transform(graphs))"
   ]
  },
  {
   "cell_type": "code",
   "execution_count": null,
   "metadata": {
    "collapsed": false,
    "deletable": true,
    "editable": true,
    "scrolled": false
   },
   "outputs": [],
   "source": [
    "#draw production rules\n",
    "from graphlearn.utils import draw\n",
    "draw.draw_grammar(sampler.lsgg.productions,n_productions=5,n_graphs_per_production=5,\n",
    "                     n_graphs_per_line=6, size=10, contract=False,\n",
    "                     colormap='Paired', invert_colormap=False,\n",
    "                     vertex_alpha=0.6, edge_alpha=0.5, abstract_interface=True)"
   ]
  },
  {
   "cell_type": "markdown",
   "metadata": {
    "deletable": true,
    "editable": true
   },
   "source": [
    "## Sample"
   ]
  },
  {
   "cell_type": "code",
   "execution_count": null,
   "metadata": {
    "collapsed": false,
    "deletable": true,
    "editable": true,
    "scrolled": false
   },
   "outputs": [],
   "source": [
    "%%time\n",
    "import graphlearn.utils.draw as draw\n",
    "import itertools\n",
    "\n",
    "# parameters and data\n",
    "sequences = get_sequences(withoutnames=True)\n",
    "id_start=66\n",
    "id_end=id_start+3\n",
    "sequences = sequences[id_start:id_end]\n",
    "n_steps=50\n",
    "\n",
    "\n",
    "\n",
    "\n",
    "\n",
    "#from eden_extra.modifier.graph.vertex_attributes import colorize\n",
    "\n",
    "\n",
    "scores=[]\n",
    "sequences=[]\n",
    "ids=range(id_start,id_end)\n",
    "\n",
    "for i,graphlist in enumerate(r):\n",
    "    #print 'Graph id: %d'%(ids[i])\n",
    "    scores.append(sampler.monitors[i].sampling_info['score_history'])\n",
    "    sequences.append(sampler.monitors[i].sampling_info['notes'])\n",
    "    #path_graphs = colorize(graphlist,\n",
    "    #                       output_attribute = 'color_level', \n",
    "    #                       labels = ['A','U','G','C'])\n",
    "    print 'going to draw'\n",
    "    print graphlist\n",
    "    if False:\n",
    "        draw.graphlearn(graphlist,\n",
    "                           n_graphs_per_line=3, size=20, contract=True,\n",
    "                           colormap='Paired', invert_colormap=False, vertex_color='color_level',\n",
    "                           vertex_alpha=0.5, edge_alpha=0.7, edge_label='label', layout=\"RNA\")"
   ]
  },
  {
   "cell_type": "markdown",
   "metadata": {
    "collapsed": false,
    "deletable": true,
    "editable": true
   },
   "source": [
    "## draw the score history for each of the graphsv"
   ]
  },
  {
   "cell_type": "code",
   "execution_count": null,
   "metadata": {
    "collapsed": false,
    "deletable": true,
    "editable": true,
    "scrolled": false
   },
   "outputs": [],
   "source": [
    "colors=['b','g','r','c','m','y','k','w']\n",
    "\n",
    "%matplotlib inline\n",
    "from itertools import islice\n",
    "import matplotlib.pyplot as plt\n",
    "import numpy as np\n",
    "step=1\n",
    "num_graphs_per_plot=2\n",
    "num_plots=np.ceil([len(scores)/num_graphs_per_plot])\n",
    "for i in range(num_plots):\n",
    "    plt.figure(figsize=(10,5))\n",
    "    for j,score in enumerate(scores[i*num_graphs_per_plot:i*num_graphs_per_plot+num_graphs_per_plot]):\n",
    "        data = list(islice(score,None, None, step))\n",
    "        plt.plot(data,ls='-',color=colors[j], label='graph %d'%(j+i*num_graphs_per_plot+id_start))\n",
    "\n",
    "        # okok now we need to add the infernal evaluation\n",
    "        seqs=sequences[i*num_graphs_per_plot+j]\n",
    "        seqs=seqs.split('n')\n",
    "        \n",
    "        # SEQUENCES STILL CONTAIN F, ALSO THERE ARE ERRORMESSAGES AT THE END OF INFO\n",
    "        #seqs=seqs[:-1]\n",
    "    \n",
    "        #print seqs\n",
    "        data2= infernal.infernal_checker(seqs,\n",
    "                                         cmfile='../../toolsdata/rf00005.cm',\n",
    "                                        cmsearchbinarypath='../../toolsdata/cmsearch')\n",
    "        #print data2,seqs\n",
    "        plt.plot(data2,ls='--',color=colors[j], label='infernal %d'%(j+i*num_graphs_per_plot+id_start))\n",
    "    plt.plot([0.29]*len(data2),ls='-.',color='r', label='significance') #| '-' | '--' | '-.' | ':' | 'None' | ' ' |\n",
    "    plt.legend(loc='lower left',framealpha=0.5)\n",
    "    plt.grid()\n",
    "    plt.ylim(-0.1,1.1)\n",
    "    plt.show()"
   ]
  },
  {
   "cell_type": "code",
   "execution_count": null,
   "metadata": {
    "collapsed": false,
    "deletable": true,
    "editable": true,
    "scrolled": false
   },
   "outputs": [],
   "source": [
    "print sequences\n"
   ]
  },
  {
   "cell_type": "code",
   "execution_count": null,
   "metadata": {
    "collapsed": false,
    "deletable": true,
    "editable": true
   },
   "outputs": [],
   "source": [
    "import sys\n",
    "sys.path"
   ]
  },
  {
   "cell_type": "code",
   "execution_count": null,
   "metadata": {
    "collapsed": true,
    "deletable": true,
    "editable": true
   },
   "outputs": [],
   "source": []
  },
  {
   "cell_type": "code",
   "execution_count": null,
   "metadata": {
    "collapsed": true,
    "deletable": true,
    "editable": true
   },
   "outputs": [],
   "source": []
  },
  {
   "cell_type": "code",
   "execution_count": null,
   "metadata": {
    "collapsed": true,
    "deletable": true,
    "editable": true
   },
   "outputs": [],
   "source": []
  },
  {
   "cell_type": "code",
   "execution_count": null,
   "metadata": {
    "collapsed": false,
    "deletable": true,
    "editable": true
   },
   "outputs": [],
   "source": [
    "print r"
   ]
  },
  {
   "cell_type": "code",
   "execution_count": null,
   "metadata": {
    "collapsed": true,
    "deletable": true,
    "editable": true
   },
   "outputs": [],
   "source": []
  }
 ],
 "metadata": {
  "kernelspec": {
   "display_name": "Python 2",
   "language": "python",
   "name": "python2"
  },
  "language_info": {
   "codemirror_mode": {
    "name": "ipython",
    "version": 2
   },
   "file_extension": ".py",
   "mimetype": "text/x-python",
   "name": "python",
   "nbconvert_exporter": "python",
   "pygments_lexer": "ipython2",
   "version": "2.7.12"
  }
 },
 "nbformat": 4,
 "nbformat_minor": 0
}
