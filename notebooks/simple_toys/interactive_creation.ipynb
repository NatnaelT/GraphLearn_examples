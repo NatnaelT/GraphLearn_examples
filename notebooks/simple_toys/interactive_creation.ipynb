{
 "cells": [
  {
   "cell_type": "markdown",
   "metadata": {
    "collapsed": false
   },
   "source": [
    "# Interactive sampler\n",
    "\n",
    "1. train a sampler\n",
    "2. user can navigate through the sampling process"
   ]
  },
  {
   "cell_type": "markdown",
   "metadata": {
    "collapsed": true
   },
   "source": [
    "initialise notebook and logger:"
   ]
  },
  {
   "cell_type": "code",
   "execution_count": 1,
   "metadata": {
    "collapsed": false
   },
   "outputs": [],
   "source": [
    "%load_ext autoreload\n",
    "%autoreload 2\n",
    "%matplotlib inline\n",
    "from eden.util import configure_logging\n",
    "import logging\n",
    "configure_logging(logging.getLogger(),verbosity=1)"
   ]
  },
  {
   "cell_type": "markdown",
   "metadata": {},
   "source": [
    "## train sampler"
   ]
  },
  {
   "cell_type": "code",
   "execution_count": 2,
   "metadata": {
    "collapsed": false,
    "scrolled": false
   },
   "outputs": [
    {
     "name": "stdout",
     "output_type": "stream",
     "text": [
      "OK\n",
      "CPU times: user 9.32 s, sys: 652 ms, total: 9.97 s\n",
      "Wall time: 28.6 s\n"
     ]
    }
   ],
   "source": [
    "%%time\n",
    "'''\n",
    "FIRST WE TRAIN A GRAPHSAMPLER\n",
    "'''\n",
    "import graphlearn.utils.draw as myutils\n",
    "import graphlearn.graphlearn as gl\n",
    "from eden.converter.graph.gspan import gspan_to_eden\n",
    "import itertools\n",
    "import graphlearn.utils.interactive as interactive\n",
    "\n",
    "GRAPHPATH=  '../../toolsdata/bursi.pos.gspan'\n",
    "\n",
    "def get_sampler():\n",
    "    # get training graphs\n",
    "    training_graphs = gspan_to_eden(GRAPHPATH )\n",
    "    training_size=200\n",
    "    training_graphs = itertools.islice(training_graphs,training_size)\n",
    "\n",
    "    #create a sampler and fit on training\n",
    "    sampler=gl.Sampler(radius_list=[0,1], thickness_list=[2],random_state=42447,\n",
    "                     min_cip_count=2, min_interface_count=2,decomposergen=interactive.mywrap)\n",
    "    sampler.fit(training_graphs)\n",
    "\n",
    "    #prepare interactive module\n",
    "    interactive.setparameters(sampler)\n",
    "    return sampler\n",
    "sampler=get_sampler()\n",
    "print 'OK'"
   ]
  },
  {
   "cell_type": "markdown",
   "metadata": {
    "collapsed": false
   },
   "source": [
    "## help the sampler to decide which generated graph to accept\n",
    "\n",
    "You will see a current graph in the middle and 8 graphs to choose from. "
   ]
  },
  {
   "cell_type": "code",
   "execution_count": 3,
   "metadata": {
    "collapsed": false,
    "scrolled": false
   },
   "outputs": [
    {
     "ename": "AttributeError",
     "evalue": "'Sampler' object has no attribute 'orig_cip_score_tricks'",
     "output_type": "error",
     "traceback": [
      "\u001b[1;31m---------------------------------------------------------------------------\u001b[0m",
      "\u001b[1;31mAttributeError\u001b[0m                            Traceback (most recent call last)",
      "\u001b[1;32m<ipython-input-3-b5e845f161cc>\u001b[0m in \u001b[0;36m<module>\u001b[1;34m()\u001b[0m\n\u001b[0;32m      9\u001b[0m \u001b[1;32mwhile\u001b[0m \u001b[0mTrue\u001b[0m\u001b[1;33m:\u001b[0m\u001b[1;33m\u001b[0m\u001b[0m\n\u001b[0;32m     10\u001b[0m     \u001b[1;31m# generate 8 graphs\u001b[0m\u001b[1;33m\u001b[0m\u001b[1;33m\u001b[0m\u001b[0m\n\u001b[1;32m---> 11\u001b[1;33m     \u001b[0mgraphmanz\u001b[0m\u001b[1;33m=\u001b[0m\u001b[0minteractive\u001b[0m\u001b[1;33m.\u001b[0m\u001b[0measy_get_new_graphs\u001b[0m\u001b[1;33m(\u001b[0m\u001b[0mCURRENT\u001b[0m\u001b[1;33m,\u001b[0m\u001b[0msampler\u001b[0m\u001b[1;33m)\u001b[0m\u001b[1;33m\u001b[0m\u001b[0m\n\u001b[0m\u001b[0;32m     12\u001b[0m     \u001b[1;31m# put old one in middle (of the plot)\u001b[0m\u001b[1;33m\u001b[0m\u001b[1;33m\u001b[0m\u001b[0m\n\u001b[0;32m     13\u001b[0m     \u001b[0mg\u001b[0m\u001b[1;33m=\u001b[0m\u001b[1;33m[\u001b[0m\u001b[0mgrman\u001b[0m\u001b[1;33m.\u001b[0m\u001b[0mbase_graph\u001b[0m\u001b[1;33m(\u001b[0m\u001b[1;33m)\u001b[0m \u001b[1;32mfor\u001b[0m \u001b[0mgrman\u001b[0m \u001b[1;32min\u001b[0m \u001b[0mgraphmanz\u001b[0m \u001b[1;33m]\u001b[0m\u001b[1;33m\u001b[0m\u001b[0m\n",
      "\u001b[1;32m/home/martners/GraphLearn/graphlearn/utils/interactive.py\u001b[0m in \u001b[0;36measy_get_new_graphs\u001b[1;34m(graphwrap, sampler)\u001b[0m\n\u001b[0;32m     83\u001b[0m     \u001b[0mres\u001b[0m \u001b[1;33m=\u001b[0m \u001b[1;33m[\u001b[0m\u001b[1;33m]\u001b[0m\u001b[1;33m\u001b[0m\u001b[0m\n\u001b[0;32m     84\u001b[0m     \u001b[0mgraphwrap\u001b[0m\u001b[1;33m.\u001b[0m\u001b[0mclean\u001b[0m\u001b[1;33m(\u001b[0m\u001b[1;33m)\u001b[0m\u001b[1;33m\u001b[0m\u001b[0m\n\u001b[1;32m---> 85\u001b[1;33m     \u001b[0mres\u001b[0m \u001b[1;33m=\u001b[0m \u001b[1;33m[\u001b[0m\u001b[0msampler\u001b[0m\u001b[1;33m.\u001b[0m\u001b[0m_propose\u001b[0m\u001b[1;33m(\u001b[0m\u001b[0mgraphwrap\u001b[0m\u001b[1;33m)\u001b[0m \u001b[1;32mfor\u001b[0m \u001b[0mi\u001b[0m \u001b[1;32min\u001b[0m \u001b[0mrange\u001b[0m\u001b[1;33m(\u001b[0m\u001b[1;36m8\u001b[0m\u001b[1;33m)\u001b[0m\u001b[1;33m]\u001b[0m\u001b[1;33m\u001b[0m\u001b[0m\n\u001b[0m\u001b[0;32m     86\u001b[0m \u001b[1;33m\u001b[0m\u001b[0m\n\u001b[0;32m     87\u001b[0m     \u001b[1;32mfor\u001b[0m \u001b[0mi\u001b[0m\u001b[1;33m,\u001b[0m \u001b[0mgw\u001b[0m \u001b[1;32min\u001b[0m \u001b[0menumerate\u001b[0m\u001b[1;33m(\u001b[0m\u001b[0mres\u001b[0m\u001b[1;33m)\u001b[0m\u001b[1;33m:\u001b[0m\u001b[1;33m\u001b[0m\u001b[0m\n",
      "\u001b[1;32m/home/martners/GraphLearn/graphlearn/graphlearn.pyc\u001b[0m in \u001b[0;36m_propose\u001b[1;34m(self, decomposer)\u001b[0m\n\u001b[0;32m    760\u001b[0m             \u001b[0mself\u001b[0m\u001b[1;33m.\u001b[0m\u001b[0mlast_graphman\u001b[0m \u001b[1;33m=\u001b[0m \u001b[0mdecomposer\u001b[0m\u001b[1;33m\u001b[0m\u001b[0m\n\u001b[0;32m    761\u001b[0m \u001b[1;33m\u001b[0m\u001b[0m\n\u001b[1;32m--> 762\u001b[1;33m         \u001b[0mproposed_decomposer\u001b[0m \u001b[1;33m=\u001b[0m \u001b[0mself\u001b[0m\u001b[1;33m.\u001b[0m\u001b[0m_propose_graph\u001b[0m\u001b[1;33m(\u001b[0m\u001b[0mdecomposer\u001b[0m\u001b[1;33m)\u001b[0m\u001b[1;33m\u001b[0m\u001b[0m\n\u001b[0m\u001b[0;32m    763\u001b[0m \u001b[1;33m\u001b[0m\u001b[0m\n\u001b[0;32m    764\u001b[0m         \u001b[1;32mif\u001b[0m \u001b[0mself\u001b[0m\u001b[1;33m.\u001b[0m\u001b[0mbacktrack\u001b[0m \u001b[1;33m>\u001b[0m \u001b[1;36m0\u001b[0m \u001b[1;32mand\u001b[0m \u001b[1;32mnot\u001b[0m \u001b[0mproposed_decomposer\u001b[0m\u001b[1;33m:\u001b[0m\u001b[1;33m\u001b[0m\u001b[0m\n",
      "\u001b[1;32m/home/martners/GraphLearn/graphlearn/graphlearn.pyc\u001b[0m in \u001b[0;36m_propose_graph\u001b[1;34m(self, decomposer)\u001b[0m\n\u001b[0;32m    786\u001b[0m         \"\"\"\n\u001b[0;32m    787\u001b[0m \u001b[1;33m\u001b[0m\u001b[0m\n\u001b[1;32m--> 788\u001b[1;33m         \u001b[1;32mfor\u001b[0m \u001b[0morig_cip_ctr\u001b[0m\u001b[1;33m,\u001b[0m \u001b[0moriginal_cip\u001b[0m \u001b[1;32min\u001b[0m \u001b[0menumerate\u001b[0m\u001b[1;33m(\u001b[0m\u001b[0mself\u001b[0m\u001b[1;33m.\u001b[0m\u001b[0mselect_original_cip\u001b[0m\u001b[1;33m(\u001b[0m\u001b[0mdecomposer\u001b[0m\u001b[1;33m)\u001b[0m\u001b[1;33m)\u001b[0m\u001b[1;33m:\u001b[0m\u001b[1;33m\u001b[0m\u001b[0m\n\u001b[0m\u001b[0;32m    789\u001b[0m             \u001b[1;31m# for all cips we are allowed to find in the original graph:\u001b[0m\u001b[1;33m\u001b[0m\u001b[1;33m\u001b[0m\u001b[0m\n\u001b[0;32m    790\u001b[0m \u001b[1;33m\u001b[0m\u001b[0m\n",
      "\u001b[1;32m/home/martners/GraphLearn/graphlearn/graphlearn.pyc\u001b[0m in \u001b[0;36mselect_original_cip\u001b[1;34m(self, graphman)\u001b[0m\n\u001b[0;32m    967\u001b[0m         \u001b[1;33m-\u001b[0m \u001b[0maccept_original_cip\u001b[0m \u001b[0mmakes\u001b[0m \u001b[0msure\u001b[0m \u001b[0mthat\u001b[0m \u001b[0mthe\u001b[0m \u001b[0mcip\u001b[0m \u001b[0mwe\u001b[0m \u001b[0mgot\u001b[0m \u001b[1;32mis\u001b[0m \u001b[0mindeed\u001b[0m \u001b[1;32min\u001b[0m \u001b[0mthe\u001b[0m \u001b[0mgrammar\u001b[0m\u001b[1;33m\u001b[0m\u001b[0m\n\u001b[0;32m    968\u001b[0m         \"\"\"\n\u001b[1;32m--> 969\u001b[1;33m         \u001b[1;32mif\u001b[0m \u001b[0mself\u001b[0m\u001b[1;33m.\u001b[0m\u001b[0morig_cip_score_tricks\u001b[0m\u001b[1;33m:\u001b[0m\u001b[1;33m\u001b[0m\u001b[0m\n\u001b[0m\u001b[0;32m    970\u001b[0m             \u001b[0mgraphman\u001b[0m\u001b[1;33m.\u001b[0m\u001b[0mmark_median\u001b[0m\u001b[1;33m(\u001b[0m\u001b[0minp\u001b[0m\u001b[1;33m=\u001b[0m\u001b[1;34m'importance'\u001b[0m\u001b[1;33m,\u001b[0m \u001b[0mout\u001b[0m\u001b[1;33m=\u001b[0m\u001b[1;34m'is_good'\u001b[0m\u001b[1;33m,\u001b[0m \u001b[0mestimator\u001b[0m\u001b[1;33m=\u001b[0m\u001b[0mself\u001b[0m\u001b[1;33m.\u001b[0m\u001b[0mestimatorobject\u001b[0m\u001b[1;33m.\u001b[0m\u001b[0mestimator\u001b[0m\u001b[1;33m)\u001b[0m\u001b[1;33m\u001b[0m\u001b[0m\n\u001b[0;32m    971\u001b[0m \u001b[1;33m\u001b[0m\u001b[0m\n",
      "\u001b[1;31mAttributeError\u001b[0m: 'Sampler' object has no attribute 'orig_cip_score_tricks'"
     ]
    }
   ],
   "source": [
    "import networkx as nx\n",
    "from graphlearn.utils import draw\n",
    "from graphlearn.utils import draw_openbabel as openbabel\n",
    "\n",
    "# choose a start graph\n",
    "gr = gspan_to_eden( GRAPHPATH)\n",
    "CURRENT = sampler._sample_init(gr.next())\n",
    "\n",
    "while True:\n",
    "    # generate 8 graphs\n",
    "    graphmanz=interactive.easy_get_new_graphs(CURRENT,sampler)\n",
    "    # put old one in middle (of the plot)\n",
    "    g=[grman.base_graph() for grman in graphmanz ]\n",
    "    g=g[:4]+[CURRENT.base_graph()]+g[4:]\n",
    "    # draw them \n",
    "    #draw.graphlearn(g,n_graphs_per_line=3, node_size=400,contract=True,node_border=0.5)\n",
    "    openbabel.draw(g,n_graphs_per_line=3,title_key='info')\n",
    "    \n",
    "    #pick a graph that is the new CURRENT\n",
    "    x=raw_input()\n",
    "    CURRENT=graphmanz[int(x)]\n",
    "    CURRENT.real_clean()"
   ]
  },
  {
   "cell_type": "markdown",
   "metadata": {},
   "source": [
    "## EXPERT MODE\n",
    "\n",
    "First choose a node in the graph that you want to change. \n",
    "Then select from all available options.\n"
   ]
  },
  {
   "cell_type": "code",
   "execution_count": null,
   "metadata": {
    "collapsed": false,
    "scrolled": false
   },
   "outputs": [],
   "source": [
    "import networkx as nx\n",
    "from graphlearn.utils import draw\n",
    "\n",
    "sampler=get_sampler()\n",
    "# initialize and provide a graph to work on\n",
    "args=interactive.getargz(sampler)\n",
    "gr = gspan_to_eden( GRAPHPATH )\n",
    "CURRENT = sampler._sample_init(gr.next())\n",
    "\n",
    "\n",
    "while True: \n",
    "    # draw graph and choose node\n",
    "    draw.graphlearn(CURRENT.base_graph(),secondary_vertex_label='id',size=15,contract=True, node_size=1400,font_size=20,node_border=0.5)\n",
    "    print \"choose a node\"\n",
    "    node_id=int(raw_input())\n",
    "    \n",
    "    # draw new cips and choose one\n",
    "    cips=interactive.get_cips(CURRENT,sampler,node_id,args)\n",
    "    if len(cips)==0:\n",
    "        print 'no replacements found,try again'\n",
    "        continue\n",
    "    cip_graphs=[ c.graph for c in cips ]\n",
    "    draw.graphlearn(cip_graphs, node_border=0.5, node_size=400,font_size=17,contract=True,title_key='info')\n",
    "    print \"choose a CIP; red nodes will be added\"\n",
    "    cip_id=int(raw_input())\n",
    "    \n",
    "    #replace and clean\n",
    "    gr=CURRENT.core_substitution( cips[cip_id].orig, cip_graphs[cip_id])\n",
    "    CURRENT=sampler.decomposer_generator(sampler.graphtransformer.re_transform_single(gr))\n",
    "    CURRENT.real_clean()"
   ]
  },
  {
   "cell_type": "markdown",
   "metadata": {},
   "source": [
    "---"
   ]
  }
 ],
 "metadata": {
  "kernelspec": {
   "display_name": "Python 2",
   "language": "python",
   "name": "python2"
  },
  "language_info": {
   "codemirror_mode": {
    "name": "ipython",
    "version": 2
   },
   "file_extension": ".py",
   "mimetype": "text/x-python",
   "name": "python",
   "nbconvert_exporter": "python",
   "pygments_lexer": "ipython2",
   "version": "2.7.10"
  }
 },
 "nbformat": 4,
 "nbformat_minor": 0
}
