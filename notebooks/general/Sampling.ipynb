{
 "cells": [
  {
   "cell_type": "markdown",
   "metadata": {
    "collapsed": true
   },
   "source": [
    "# Sampling\n",
    "\n",
    "we sample from chemical graphs.\n",
    "\n",
    "First we will fit a sampler and then we will generate new graphs :)\n"
   ]
  },
  {
   "cell_type": "markdown",
   "metadata": {},
   "source": [
    "## initialising logging and notebook"
   ]
  },
  {
   "cell_type": "code",
   "execution_count": 1,
   "metadata": {
    "collapsed": false
   },
   "outputs": [
    {
     "name": "stdout",
     "output_type": "stream",
     "text": [
      "Mon May 23 14:19:38 CEST 2016\r\n"
     ]
    }
   ],
   "source": [
    "%load_ext autoreload\n",
    "%autoreload 2\n",
    "%matplotlib inline\n",
    "from eden.util import configure_logging\n",
    "import logging\n",
    "configure_logging(logging.getLogger(),verbosity=2)\n",
    "!date\n",
    "BABELDRAW=False"
   ]
  },
  {
   "cell_type": "markdown",
   "metadata": {},
   "source": [
    "## fit sampler i.e. fit estimator and grammar"
   ]
  },
  {
   "cell_type": "code",
   "execution_count": 2,
   "metadata": {
    "collapsed": false
   },
   "outputs": [],
   "source": [
    "# get data\n",
    "from eden.converter.graph.gspan import gspan_to_eden\n",
    "from itertools import islice\n",
    "def get_graphs(dataset_fname, size=100):\n",
    "    return  islice(gspan_to_eden(dataset_fname),size)\n",
    "\n",
    "dataset_fname = 'toolsdata/bursi.pos.gspan'"
   ]
  },
  {
   "cell_type": "code",
   "execution_count": 3,
   "metadata": {
    "collapsed": false,
    "scrolled": false
   },
   "outputs": [
    {
     "name": "stdout",
     "output_type": "stream",
     "text": [
      "\n",
      "Classifier:\n",
      "SGDClassifier(alpha=0.000545041563449, average=False, class_weight=None,\n",
      "       epsilon=0.1, eta0=0.0356642960812, fit_intercept=True,\n",
      "       l1_ratio=0.15, learning_rate='invscaling', loss='log', n_iter=56,\n",
      "       n_jobs=1, penalty='l1', power_t=1.07204913259, random_state=None,\n",
      "       shuffle=True, verbose=0, warm_start=False)\n",
      "\n",
      "Predictive performance:\n",
      "            accuracy: 1.000 +- 0.000\n",
      "           precision: 1.000 +- 0.000\n",
      "              recall: 1.000 +- 0.000\n",
      "                  f1: 1.000 +- 0.000\n",
      "   average_precision: 1.000 +- 0.000\n",
      "             roc_auc: 1.000 +- 0.000\n",
      "#instances: 300  #interfaces: 122   #cores: 54   #core-interface-pairs: 378\n",
      "graph grammar stats:\n",
      "#instances: 300   #interfaces: 122   #cores: 54   #core-interface-pairs: 378\n",
      "Saved model: tmp/sampler.ge\n",
      "CPU times: user 15 s, sys: 753 ms, total: 15.8 s\n",
      "Wall time: 40.2 s\n"
     ]
    }
   ],
   "source": [
    "%%time\n",
    "'''\n",
    "TRAINING A SAMPLER\n",
    "'''\n",
    "from graphlearn.graphlearn import  Sampler\n",
    "from eden.graph import Vectorizer\n",
    "\n",
    "# to demonstrate pluggable regressor\n",
    "#from graphlearn.estimate import OneClassEstimator\n",
    "#from sklearn.linear_model import LinearRegression \n",
    "\n",
    "# get training graphs\n",
    "training_graphs = get_graphs(dataset_fname, size=300)\n",
    "\n",
    "# train a sampler\n",
    "sampler=Sampler(radius_list=[0,1], thickness_list=[2],random_state=42447,\n",
    "                          min_cip_count=2, min_interface_count=2,\n",
    "                          vectorizer=Vectorizer(3)\n",
    "                          #estimator = OneClassEstimator(classifier=LinearRegression()))\n",
    "                           )\n",
    "sampler.fit(training_graphs)\n",
    "\n",
    "# lets look at a few stats about the trained sampler\n",
    "print('graph grammar stats:')\n",
    "n_instances, interface_counts, core_counts, cip_counts = sampler.grammar().size()\n",
    "print('#instances: %d   #interfaces: %d   #cores: %d   #core-interface-pairs: %d' % (n_instances, interface_counts, core_counts, cip_counts))\n",
    "sampler.save('tmp/sampler.ge')"
   ]
  },
  {
   "cell_type": "markdown",
   "metadata": {},
   "source": [
    "# Sample and show generated graphs"
   ]
  },
  {
   "cell_type": "code",
   "execution_count": 4,
   "metadata": {
    "collapsed": false,
    "scrolled": false
   },
   "outputs": [
    {
     "name": "stdout",
     "output_type": "stream",
     "text": [
      "Loaded model: tmp/sampler.ge\n"
     ]
    },
    {
     "ename": "TypeError",
     "evalue": "sample() got an unexpected keyword argument 'target_orig_cip'",
     "output_type": "error",
     "traceback": [
      "\u001b[1;31m---------------------------------------------------------------------------\u001b[0m",
      "\u001b[1;31mTypeError\u001b[0m                                 Traceback (most recent call last)",
      "\u001b[1;32m<ipython-input-4-d8d1578f0a3f>\u001b[0m in \u001b[0;36m<module>\u001b[1;34m()\u001b[0m\n\u001b[1;32m----> 1\u001b[1;33m \u001b[0mget_ipython\u001b[0m\u001b[1;33m(\u001b[0m\u001b[1;33m)\u001b[0m\u001b[1;33m.\u001b[0m\u001b[0mrun_cell_magic\u001b[0m\u001b[1;33m(\u001b[0m\u001b[1;34mu'time'\u001b[0m\u001b[1;33m,\u001b[0m \u001b[1;34mu''\u001b[0m\u001b[1;33m,\u001b[0m \u001b[1;34mu'from itertools import islice\\n\\n\"\"\"\\nUSING A SAMPLER\\n\"\"\"\\n# reloading, this is not necessary actually since we sould still have the object in memory \\nfrom graphlearn.graphlearn import  Sampler\\nsampler=Sampler()\\nsampler.load(\\'tmp/sampler.ge\\')\\n\\n\\n# get a graph list and pic some graphs to initialize the sampler with.\\n# the sampler will look at each graphs and try n_steps times to alter it.\\ngraphs = get_graphs(dataset_fname, size=100)\\nid_start=34\\nid_end=id_start+12\\ninput_graphs = islice(graphs,id_start,id_end)\\n\\n# sample parameters\\nn_steps=60 # how many steps\\nn_samples=4 # collect this many samples during the process\\n\\n\\n# sampler will return lists of graphs as you see below.\\ngraphs = sampler.sample(input_graphs,\\n                        n_steps=n_steps, n_samples=n_samples,\\n                        target_orig_cip=False,\\n                        probabilistic_core_choice=False,\\n                        score_core_choice= True,\\n                        max_size_diff=1,\\n                        burnin=10,\\n                        include_seed=True,\\n                        proposal_probability = False,\\n                        improving_threshold=.5, \\n                        improving_linear_start=0.0,\\n                        accept_static_penalty=0.0,\\n                        n_jobs=1,\\n                        select_cip_max_tries=200,\\n                        keep_duplicates=True,  \\n                        monitor=True)'\u001b[0m\u001b[1;33m)\u001b[0m\u001b[1;33m\u001b[0m\u001b[0m\n\u001b[0m",
      "\u001b[1;32m/home/martners/.local/lib/python2.7/site-packages/IPython/core/interactiveshell.pyc\u001b[0m in \u001b[0;36mrun_cell_magic\u001b[1;34m(self, magic_name, line, cell)\u001b[0m\n\u001b[0;32m   2291\u001b[0m             \u001b[0mmagic_arg_s\u001b[0m \u001b[1;33m=\u001b[0m \u001b[0mself\u001b[0m\u001b[1;33m.\u001b[0m\u001b[0mvar_expand\u001b[0m\u001b[1;33m(\u001b[0m\u001b[0mline\u001b[0m\u001b[1;33m,\u001b[0m \u001b[0mstack_depth\u001b[0m\u001b[1;33m)\u001b[0m\u001b[1;33m\u001b[0m\u001b[0m\n\u001b[0;32m   2292\u001b[0m             \u001b[1;32mwith\u001b[0m \u001b[0mself\u001b[0m\u001b[1;33m.\u001b[0m\u001b[0mbuiltin_trap\u001b[0m\u001b[1;33m:\u001b[0m\u001b[1;33m\u001b[0m\u001b[0m\n\u001b[1;32m-> 2293\u001b[1;33m                 \u001b[0mresult\u001b[0m \u001b[1;33m=\u001b[0m \u001b[0mfn\u001b[0m\u001b[1;33m(\u001b[0m\u001b[0mmagic_arg_s\u001b[0m\u001b[1;33m,\u001b[0m \u001b[0mcell\u001b[0m\u001b[1;33m)\u001b[0m\u001b[1;33m\u001b[0m\u001b[0m\n\u001b[0m\u001b[0;32m   2294\u001b[0m             \u001b[1;32mreturn\u001b[0m \u001b[0mresult\u001b[0m\u001b[1;33m\u001b[0m\u001b[0m\n\u001b[0;32m   2295\u001b[0m \u001b[1;33m\u001b[0m\u001b[0m\n",
      "\u001b[1;32m/home/martners/.local/lib/python2.7/site-packages/IPython/core/magics/execution.pyc\u001b[0m in \u001b[0;36mtime\u001b[1;34m(self, line, cell, local_ns)\u001b[0m\n",
      "\u001b[1;32m/home/martners/.local/lib/python2.7/site-packages/IPython/core/magic.pyc\u001b[0m in \u001b[0;36m<lambda>\u001b[1;34m(f, *a, **k)\u001b[0m\n\u001b[0;32m    191\u001b[0m     \u001b[1;31m# but it's overkill for just that one bit of state.\u001b[0m\u001b[1;33m\u001b[0m\u001b[1;33m\u001b[0m\u001b[0m\n\u001b[0;32m    192\u001b[0m     \u001b[1;32mdef\u001b[0m \u001b[0mmagic_deco\u001b[0m\u001b[1;33m(\u001b[0m\u001b[0marg\u001b[0m\u001b[1;33m)\u001b[0m\u001b[1;33m:\u001b[0m\u001b[1;33m\u001b[0m\u001b[0m\n\u001b[1;32m--> 193\u001b[1;33m         \u001b[0mcall\u001b[0m \u001b[1;33m=\u001b[0m \u001b[1;32mlambda\u001b[0m \u001b[0mf\u001b[0m\u001b[1;33m,\u001b[0m \u001b[1;33m*\u001b[0m\u001b[0ma\u001b[0m\u001b[1;33m,\u001b[0m \u001b[1;33m**\u001b[0m\u001b[0mk\u001b[0m\u001b[1;33m:\u001b[0m \u001b[0mf\u001b[0m\u001b[1;33m(\u001b[0m\u001b[1;33m*\u001b[0m\u001b[0ma\u001b[0m\u001b[1;33m,\u001b[0m \u001b[1;33m**\u001b[0m\u001b[0mk\u001b[0m\u001b[1;33m)\u001b[0m\u001b[1;33m\u001b[0m\u001b[0m\n\u001b[0m\u001b[0;32m    194\u001b[0m \u001b[1;33m\u001b[0m\u001b[0m\n\u001b[0;32m    195\u001b[0m         \u001b[1;32mif\u001b[0m \u001b[0mcallable\u001b[0m\u001b[1;33m(\u001b[0m\u001b[0marg\u001b[0m\u001b[1;33m)\u001b[0m\u001b[1;33m:\u001b[0m\u001b[1;33m\u001b[0m\u001b[0m\n",
      "\u001b[1;32m/home/martners/.local/lib/python2.7/site-packages/IPython/core/magics/execution.pyc\u001b[0m in \u001b[0;36mtime\u001b[1;34m(self, line, cell, local_ns)\u001b[0m\n\u001b[0;32m   1165\u001b[0m         \u001b[1;32melse\u001b[0m\u001b[1;33m:\u001b[0m\u001b[1;33m\u001b[0m\u001b[0m\n\u001b[0;32m   1166\u001b[0m             \u001b[0mst\u001b[0m \u001b[1;33m=\u001b[0m \u001b[0mclock2\u001b[0m\u001b[1;33m(\u001b[0m\u001b[1;33m)\u001b[0m\u001b[1;33m\u001b[0m\u001b[0m\n\u001b[1;32m-> 1167\u001b[1;33m             \u001b[1;32mexec\u001b[0m\u001b[1;33m(\u001b[0m\u001b[0mcode\u001b[0m\u001b[1;33m,\u001b[0m \u001b[0mglob\u001b[0m\u001b[1;33m,\u001b[0m \u001b[0mlocal_ns\u001b[0m\u001b[1;33m)\u001b[0m\u001b[1;33m\u001b[0m\u001b[0m\n\u001b[0m\u001b[0;32m   1168\u001b[0m             \u001b[0mend\u001b[0m \u001b[1;33m=\u001b[0m \u001b[0mclock2\u001b[0m\u001b[1;33m(\u001b[0m\u001b[1;33m)\u001b[0m\u001b[1;33m\u001b[0m\u001b[0m\n\u001b[0;32m   1169\u001b[0m             \u001b[0mout\u001b[0m \u001b[1;33m=\u001b[0m \u001b[0mNone\u001b[0m\u001b[1;33m\u001b[0m\u001b[0m\n",
      "\u001b[1;32m<timed exec>\u001b[0m in \u001b[0;36m<module>\u001b[1;34m()\u001b[0m\n",
      "\u001b[1;31mTypeError\u001b[0m: sample() got an unexpected keyword argument 'target_orig_cip'"
     ]
    }
   ],
   "source": [
    "%%time\n",
    "from itertools import islice\n",
    "\n",
    "\"\"\"\n",
    "USING A SAMPLER\n",
    "\"\"\"\n",
    "# reloading, this is not necessary actually since we sould still have the object in memory \n",
    "from graphlearn.graphlearn import  Sampler\n",
    "sampler=Sampler()\n",
    "sampler.load('tmp/sampler.ge')\n",
    "\n",
    "\n",
    "# get a graph list and pic some graphs to initialize the sampler with.\n",
    "# the sampler will look at each graphs and try n_steps times to alter it.\n",
    "graphs = get_graphs(dataset_fname, size=100)\n",
    "id_start=34\n",
    "id_end=id_start+12\n",
    "input_graphs = islice(graphs,id_start,id_end)\n",
    "\n",
    "# sample parameters\n",
    "n_steps=60 # how many steps\n",
    "n_samples=4 # collect this many samples during the process\n",
    "\n",
    "\n",
    "# sampler will return lists of graphs as you see below.\n",
    "graphs = sampler.sample(input_graphs,\n",
    "                        n_steps=n_steps, n_samples=n_samples,\n",
    "                        target_orig_cip=False,\n",
    "                        probabilistic_core_choice=False,\n",
    "                        score_core_choice= True,\n",
    "                        max_size_diff=1,\n",
    "                        burnin=10,\n",
    "                        include_seed=True,\n",
    "                        proposal_probability = False,\n",
    "                        improving_threshold=.5, \n",
    "                        improving_linear_start=0.0,\n",
    "                        accept_static_penalty=0.0,\n",
    "                        n_jobs=1,\n",
    "                        select_cip_max_tries=200,\n",
    "                        keep_duplicates=True,  \n",
    "                        monitor=True)"
   ]
  },
  {
   "cell_type": "code",
   "execution_count": null,
   "metadata": {
    "collapsed": false,
    "scrolled": false
   },
   "outputs": [],
   "source": [
    "%%time\n",
    "# plot examples of sampling paths\n",
    "\n",
    "scores=[]\n",
    "ids=range(id_start,id_end)\n",
    "for i,graphlist in enumerate(graphs):\n",
    "    print 'Graph id: %d'%(ids[i])\n",
    "    scores.append(sampler.monitors[i].sampling_info['score_history'])\n",
    "    if BABELDRAW:\n",
    "        from graphlearn.utils import openbabel\n",
    "        openbabel.draw(graphlist, d3=False, n_graphs_per_line=6,size=200)\n",
    "    else:\n",
    "        from graphlearn.utils import draw\n",
    "        draw.graphlearn(graphlist,contract=True,#vertex_label='id',\n",
    "                   n_graphs_per_line=6, size=10, \n",
    "                   colormap='Paired', invert_colormap=False,node_border=0.5, vertex_color='_labels_',\n",
    "                   vertex_alpha=0.5, edge_alpha=0.2, node_size=450)\n",
    "    \n",
    " \n",
    "    "
   ]
  },
  {
   "cell_type": "code",
   "execution_count": null,
   "metadata": {
    "collapsed": false,
    "scrolled": false
   },
   "outputs": [],
   "source": [
    "# we sampled with monitoring mode enabled, \n",
    "#this is why we could now look at what exactly happened during sampling\n",
    "#this is step 9 of the 1st graph\n",
    "sampler.monitors[1][9]"
   ]
  },
  {
   "cell_type": "markdown",
   "metadata": {},
   "source": [
    "# Show sample score history"
   ]
  },
  {
   "cell_type": "code",
   "execution_count": null,
   "metadata": {
    "collapsed": false,
    "scrolled": false
   },
   "outputs": [],
   "source": [
    "%%time\n",
    "# plot sampling path score\n",
    "from itertools import islice\n",
    "import numpy as np\n",
    "import pylab as plt\n",
    "markevery=n_steps/(n_samples)\n",
    "step=1\n",
    "num_graphs_per_plot=3\n",
    "num_plots=np.ceil([len(scores)/num_graphs_per_plot])\n",
    "for i in range(num_plots):\n",
    "\n",
    "    plt.figure(figsize=(13,5))\n",
    "    for j,score in enumerate(scores[i*num_graphs_per_plot:i*num_graphs_per_plot+num_graphs_per_plot]):\n",
    "     \n",
    "        data = list(islice(score,None, None, step))\n",
    "        plt.plot(data, linewidth=2, label='graph %d'%(j+i*num_graphs_per_plot+id_start))\n",
    "        plt.plot(data, linestyle='None',markevery=markevery, markerfacecolor='white', marker='o', markeredgewidth=2,markersize=6)\n",
    "    plt.legend(loc='lower right')\n",
    "    plt.grid()\n",
    "    plt.xlim(-1,n_steps+1)\n",
    "    plt.ylim(-0.1,1.1)\n",
    "    plt.show()"
   ]
  },
  {
   "cell_type": "markdown",
   "metadata": {},
   "source": [
    "---"
   ]
  },
  {
   "cell_type": "code",
   "execution_count": null,
   "metadata": {
    "collapsed": false
   },
   "outputs": [],
   "source": [
    "from matplotlib.cm import inferno\n",
    "colors = inferno(range(256))\n",
    "print colors\n",
    "import matplotlib\n",
    "for x in colors:\n",
    "    print matplotlib.colors.rgb2hex(x)"
   ]
  },
  {
   "cell_type": "code",
   "execution_count": null,
   "metadata": {
    "collapsed": false
   },
   "outputs": [],
   "source": []
  },
  {
   "cell_type": "code",
   "execution_count": null,
   "metadata": {
    "collapsed": false
   },
   "outputs": [],
   "source": [
    "z=Namespace(decomposergen='asd', estimator=4)"
   ]
  },
  {
   "cell_type": "code",
   "execution_count": null,
   "metadata": {
    "collapsed": true
   },
   "outputs": [],
   "source": []
  }
 ],
 "metadata": {
  "kernelspec": {
   "display_name": "Python 2",
   "language": "python",
   "name": "python2"
  },
  "language_info": {
   "codemirror_mode": {
    "name": "ipython",
    "version": 2
   },
   "file_extension": ".py",
   "mimetype": "text/x-python",
   "name": "python",
   "nbconvert_exporter": "python",
   "pygments_lexer": "ipython2",
   "version": "2.7.10"
  }
 },
 "nbformat": 4,
 "nbformat_minor": 0
}
