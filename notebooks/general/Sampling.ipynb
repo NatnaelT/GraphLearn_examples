{
 "cells": [
  {
   "cell_type": "markdown",
   "metadata": {
    "collapsed": true,
    "deletable": true,
    "editable": true
   },
   "source": [
    "# Sampling\n",
    "\n",
    "we sample from chemical graphs.\n",
    "\n",
    "First we will fit a sampler and then we will generate new graphs :)\n"
   ]
  },
  {
   "cell_type": "markdown",
   "metadata": {
    "deletable": true,
    "editable": true
   },
   "source": [
    "## initialising logging and notebook"
   ]
  },
  {
   "cell_type": "code",
   "execution_count": null,
   "metadata": {
    "collapsed": false,
    "deletable": true,
    "editable": true
   },
   "outputs": [],
   "source": [
    "%load_ext autoreload\n",
    "%autoreload 2\n",
    "%matplotlib inline\n",
    "from eden.util import configure_logging\n",
    "import logging\n",
    "configure_logging(logging.getLogger(),verbosity=1)\n",
    "!date\n",
    "BABELDRAW=False"
   ]
  },
  {
   "cell_type": "markdown",
   "metadata": {
    "deletable": true,
    "editable": true
   },
   "source": [
    "## fit sampler i.e. fit estimator and grammar"
   ]
  },
  {
   "cell_type": "code",
   "execution_count": null,
   "metadata": {
    "collapsed": false,
    "deletable": true,
    "editable": true
   },
   "outputs": [],
   "source": [
    "# get data\n",
    "from eden.io.gspan import gspan_to_eden\n",
    "from itertools import islice\n",
    "def get_graphs(dataset_fname, size=100):\n",
    "    return  islice(gspan_to_eden(dataset_fname),size)\n",
    "\n",
    "dataset_fname = '../../toolsdata/bursi.pos.gspan'"
   ]
  },
  {
   "cell_type": "code",
   "execution_count": null,
   "metadata": {
    "collapsed": false,
    "deletable": true,
    "editable": true,
    "scrolled": false
   },
   "outputs": [],
   "source": [
    "%%time\n",
    "'''\n",
    "TRAINING A SAMPLER\n",
    "'''\n",
    "from graphlearn.graphlearn import  Sampler\n",
    "from eden.graph import Vectorizer\n",
    "from graphlearn.localsubstitutablegraphgrammar import LocalSubstitutableGraphGrammar\n",
    "\n",
    "# to demonstrate pluggable regressor\n",
    "#from graphlearn.estimate import OneClassEstimator\n",
    "#from sklearn.linear_model import LinearRegression \n",
    "\n",
    "\n",
    "\n",
    "# train a sampler\n",
    "sampler=Sampler(\n",
    "                    \n",
    "                          #vectorizer=Vectorizer(3),\n",
    "                          #estimator = OneClassEstimator(classifier=LinearRegression()))\n",
    "                 grammar=LocalSubstitutableGraphGrammar(radius_list=[0, 1],\n",
    "                                                        thickness_list=[1,2],\n",
    "                                                        min_cip_count=2,\n",
    "                                                        min_interface_count=2), \n",
    "                 size_diff_core_filter=-1,\n",
    "                 core_choice_byfrequency=False,\n",
    "                 core_choice_byscore=False,\n",
    "                 core_choice_bytrial=False,\n",
    "                 core_choice_bytrial_multiplier=1.0,\n",
    "\n",
    "                 size_constrained_core_choice=-1,\n",
    "                 similarity=-1,\n",
    "                 n_samples=None,\n",
    "                 proposal_probability=False,\n",
    "                 batch_size=10,\n",
    "                 n_jobs=0,\n",
    "\n",
    "                 orig_cip_max_positives=1,\n",
    "                 orig_cip_min_positives=0,\n",
    "\n",
    "                 n_steps=50,\n",
    "                 quick_skip_orig_cip=False,\n",
    "                 improving_threshold_fraction=-1,\n",
    "                 improving_linear_start_fraction=0,\n",
    "                 accept_static_penalty=0.0,\n",
    "                 accept_min_similarity=0.0,\n",
    "                 select_cip_max_tries=20,\n",
    "                 burnin=0,\n",
    "                 backtrack=0,\n",
    "\n",
    "                 include_seed=False,\n",
    "                 keep_duplicates=False,\n",
    "\n",
    "                 monitor=True\n",
    "         \n",
    "               )\n",
    "\n",
    "#sampler=Sampler()\n",
    "\n",
    "# get training graphs\n",
    "training_graphs = get_graphs(dataset_fname, size=200)\n",
    "sampler.fit(training_graphs)\n",
    "\n",
    "\n",
    "\n",
    "# lets look at a few stats about the trained sampler\n",
    "print('graph grammar stats:')\n",
    "n_instances, interface_counts, core_counts, cip_counts = sampler.grammar().size()\n",
    "print('#instances: %d   #interfaces: %d   #cores: %d   #core-interface-pairs: %d' % (n_instances, interface_counts, core_counts, cip_counts))\n",
    "#sampler.save('tmp/sampler.ge')"
   ]
  },
  {
   "cell_type": "markdown",
   "metadata": {
    "deletable": true,
    "editable": true
   },
   "source": [
    "# Sample and show generated graphs"
   ]
  },
  {
   "cell_type": "code",
   "execution_count": null,
   "metadata": {
    "collapsed": false,
    "deletable": true,
    "editable": true,
    "scrolled": false
   },
   "outputs": [],
   "source": [
    "%%time\n",
    "from itertools import islice\n",
    "\n",
    "\"\"\"\n",
    "USING A SAMPLER\n",
    "\"\"\"\n",
    "# reloading, this is not necessary actually since we sould still have the object in memory \n",
    "from graphlearn.graphlearn import  Sampler\n",
    "\n",
    "#sampler.load('tmp/sampler.ge')\n",
    "\n",
    "\n",
    "# get a graph list and pic some graphs to initialize the sampler with.\n",
    "# the sampler will look at each graphs and try n_steps times to alter it.\n",
    "graphs = get_graphs(dataset_fname, size=100)\n",
    "id_start=0\n",
    "id_end=id_start+2\n",
    "input_graphs = islice(graphs,id_start,id_end)\n",
    "\n",
    "# sample parameters\n",
    "n_steps=60 # how many steps\n",
    "n_samples=4 # collect this many samples during the process\n",
    "\n",
    "\n",
    "# sampler will return lists of graphs as you see below.\n",
    "graphs = sampler.transform(input_graphs)\n",
    "\n",
    "\n"
   ]
  },
  {
   "cell_type": "code",
   "execution_count": null,
   "metadata": {
    "collapsed": false,
    "deletable": true,
    "editable": true,
    "scrolled": false
   },
   "outputs": [],
   "source": [
    "%%time\n",
    "# plot examples of sampling paths\n",
    "\n",
    "scores=[]\n",
    "ids=range(id_start,id_end)\n",
    "for i,graphlist in enumerate(graphs):\n",
    "    print 'Graph id: %d'%(ids[i])\n",
    "    scores.append(sampler.monitors[i].sampling_info['score_history'])\n",
    "    if BABELDRAW:\n",
    "        from graphlearn.utils import openbabel\n",
    "        openbabel.draw(graphlist, d3=False, n_graphs_per_line=6,size=200)\n",
    "    else:\n",
    "        from graphlearn.utils import draw\n",
    "        draw.graphlearn(graphlist,contract=True,#vertex_label='id',\n",
    "                   n_graphs_per_line=6, size=10, \n",
    "                   colormap='Paired', invert_colormap=False, vertex_color='_labels_',\n",
    "                   vertex_alpha=0.5, edge_alpha=0.2)\n",
    "    \n",
    " \n",
    "\n",
    " "
   ]
  },
  {
   "cell_type": "code",
   "execution_count": null,
   "metadata": {
    "collapsed": false,
    "deletable": true,
    "editable": true,
    "scrolled": false
   },
   "outputs": [],
   "source": [
    "# we sampled with monitoring mode enabled, \n",
    "#this is why we could now look at what exactly happened during sampling\n",
    "#this is step 9 of the 1st graph\n",
    "#sampler.monitors[1][9]"
   ]
  },
  {
   "cell_type": "markdown",
   "metadata": {
    "deletable": true,
    "editable": true
   },
   "source": [
    "# Show sample score history"
   ]
  },
  {
   "cell_type": "code",
   "execution_count": null,
   "metadata": {
    "collapsed": false,
    "deletable": true,
    "editable": true,
    "scrolled": false
   },
   "outputs": [],
   "source": [
    "%%time\n",
    "# plot sampling path score\n",
    "from itertools import islice\n",
    "import numpy as np\n",
    "import pylab as plt\n",
    "markevery=n_steps/(n_samples)\n",
    "step=1\n",
    "num_graphs_per_plot=3\n",
    "num_plots=np.ceil([len(scores)/num_graphs_per_plot])\n",
    "for i in range(num_plots):\n",
    "\n",
    "    plt.figure(figsize=(13,5))\n",
    "    for j,score in enumerate(scores[i*num_graphs_per_plot:i*num_graphs_per_plot+num_graphs_per_plot]):\n",
    "     \n",
    "        data = list(islice(score,None, None, step))\n",
    "        plt.plot(data, linewidth=2, label='graph %d'%(j+i*num_graphs_per_plot+id_start))\n",
    "        plt.plot(data, linestyle='None',markevery=markevery, markerfacecolor='white', marker='o', markeredgewidth=2,markersize=6)\n",
    "    plt.legend(loc='lower right')\n",
    "    plt.grid()\n",
    "    plt.xlim(-1,n_steps+1)\n",
    "    plt.ylim(-0.1,1.1)\n",
    "    plt.show()\n",
    "    \n"
   ]
  },
  {
   "cell_type": "markdown",
   "metadata": {
    "deletable": true,
    "editable": true
   },
   "source": [
    "---"
   ]
  }
 ],
 "metadata": {
  "kernelspec": {
   "display_name": "Python 2",
   "language": "python",
   "name": "python2"
  },
  "language_info": {
   "codemirror_mode": {
    "name": "ipython",
    "version": 2
   },
   "file_extension": ".py",
   "mimetype": "text/x-python",
   "name": "python",
   "nbconvert_exporter": "python",
   "pygments_lexer": "ipython2",
   "version": "2.7.12"
  }
 },
 "nbformat": 4,
 "nbformat_minor": 0
}
