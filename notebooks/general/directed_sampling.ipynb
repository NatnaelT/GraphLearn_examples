{
 "cells": [
  {
   "cell_type": "markdown",
   "metadata": {
    "deletable": true,
    "editable": true
   },
   "source": [
    "# Directed Sampling \n",
    "\n",
    "\n",
    "### initialising logging and notebook"
   ]
  },
  {
   "cell_type": "code",
   "execution_count": null,
   "metadata": {
    "attributes": {
     "classes": [],
     "id": "",
     "n": "1"
    },
    "collapsed": false,
    "deletable": true,
    "editable": true
   },
   "outputs": [],
   "source": [
    "%load_ext autoreload\n",
    "%autoreload 2\n",
    "%matplotlib inline\n",
    "from eden.util import configure_logging\n",
    "import logging\n",
    "configure_logging(logging.getLogger(),verbosity=2)\n",
    "!date2\n",
    "BABELDRAW=False"
   ]
  },
  {
   "cell_type": "markdown",
   "metadata": {
    "deletable": true,
    "editable": true
   },
   "source": [
    "### set up graph source"
   ]
  },
  {
   "cell_type": "code",
   "execution_count": null,
   "metadata": {
    "collapsed": true,
    "deletable": true,
    "editable": true
   },
   "outputs": [],
   "source": [
    "# get data\n",
    "from eden.io.gspan import gspan_to_eden\n",
    "from itertools import islice\n",
    "import graphlearn.utils.draw as draw\n",
    "def get_graphs(dataset_fname, size=100):\n",
    "    return  islice(gspan_to_eden(dataset_fname),size)\n",
    "\n",
    "dataset_fname = '../../toolsdata/bursi.pos.gspan'"
   ]
  },
  {
   "cell_type": "markdown",
   "metadata": {
    "deletable": true,
    "editable": true
   },
   "source": [
    "### set up a scoring system :D "
   ]
  },
  {
   "cell_type": "code",
   "execution_count": null,
   "metadata": {
    "collapsed": false,
    "deletable": true,
    "editable": true
   },
   "outputs": [],
   "source": [
    "from sklearn.metrics.pairwise import cosine_similarity\n",
    "from eden.graph import Vectorizer\n",
    "\n",
    "class VecComparator():\n",
    "    def __init__(self, vector):\n",
    "        self.base = vector \n",
    "    def __init__(self,graph, vectorizer):\n",
    "        self.base = vectorizer.transform([graph])[0]        \n",
    "    def fit(self,ignore,**ignore2):\n",
    "        pass\n",
    "    def predict(self,vector):\n",
    "        return cosine_similarity(self.base,vector)[0][0]\n",
    "            \n",
    "g=get_graphs(dataset_fname)\n",
    "VC = VecComparator(g.next(),Vectorizer())"
   ]
  },
  {
   "cell_type": "markdown",
   "metadata": {
    "deletable": true,
    "editable": true
   },
   "source": [
    "### set up a sampler (default parameters shown) with the new scoring system"
   ]
  },
  {
   "cell_type": "code",
   "execution_count": null,
   "metadata": {
    "collapsed": false,
    "deletable": true,
    "editable": true,
    "scrolled": false
   },
   "outputs": [],
   "source": [
    "%%time\n",
    "'''\n",
    "TRAINING A SAMPLER\n",
    "'''\n",
    "from graphlearn.graphlearn import  Sampler\n",
    "from eden.graph import Vectorizer\n",
    "from graphlearn.localsubstitutablegraphgrammar import LocalSubstitutableGraphGrammar\n",
    "# train a sampler\n",
    "sampler=Sampler(\n",
    "                    \n",
    "                 \n",
    "                 estimator = VC,\n",
    "                 grammar=LocalSubstitutableGraphGrammar(radius_list=[0, 1],\n",
    "                                                        thickness_list=[1,2],\n",
    "                                                        min_cip_count=2,\n",
    "                                                        min_interface_count=2), \n",
    "                 \n",
    "                 core_choice_byfrequency=False,\n",
    "                 core_choice_byscore=False,\n",
    "                 core_choice_bytrial=False,\n",
    "                 core_choice_bytrial_multiplier=1.0,\n",
    "                 size_diff_core_filter=1,   \n",
    "                 size_constrained_core_choice=1,\n",
    "                 similarity=-1,\n",
    "                 n_samples=4,\n",
    "                 proposal_probability=False,\n",
    "                 batch_size=10,\n",
    "                 n_jobs=0,\n",
    "\n",
    "                 orig_cip_max_positives=1,\n",
    "                 orig_cip_min_positives=0,\n",
    "\n",
    "                 n_steps=50,\n",
    "                 quick_skip_orig_cip=False,\n",
    "                 improving_threshold_fraction=-1,\n",
    "                 improving_linear_start_fraction=0,\n",
    "                 accept_static_penalty=0.0,\n",
    "                 accept_min_similarity=0.0,\n",
    "                 select_cip_max_tries=20,\n",
    "                 burnin=0,\n",
    "                 backtrack=0,\n",
    "\n",
    "                 include_seed=False,\n",
    "                 keep_duplicates=False,\n",
    "\n",
    "                 monitor=True,\n",
    "                proposed_graphs_per_step=5\n",
    "         \n",
    "               )\n",
    "\n",
    "\n",
    "# get training graphs\n",
    "training_graphs = get_graphs(dataset_fname, size=200)\n",
    "sampler.fit(training_graphs)\n",
    "\n",
    "# lets look at a few stats about the trained sampler\n",
    "print('graph grammar stats:')\n",
    "n_instances, interface_counts, core_counts, cip_counts = sampler.grammar().size()\n",
    "print('#instances: %d   #interfaces: %d   #cores: %d   #core-interface-pairs: %d' % (n_instances, interface_counts, core_counts, cip_counts))"
   ]
  },
  {
   "cell_type": "markdown",
   "metadata": {
    "deletable": true,
    "editable": true
   },
   "source": [
    "# Sample and show generated graphs"
   ]
  },
  {
   "cell_type": "code",
   "execution_count": null,
   "metadata": {
    "collapsed": false,
    "deletable": true,
    "editable": true
   },
   "outputs": [],
   "source": [
    "%%time\n",
    "from itertools import islice\n",
    "graphs = get_graphs(dataset_fname, size=100)\n",
    "id_start=36\n",
    "id_end=id_start+12\n",
    "input_graphs = islice(graphs,id_start,id_end)\n",
    "\n",
    "\n",
    "\n",
    "graphs = sampler.transform(input_graphs)\n",
    "\n",
    "\n"
   ]
  },
  {
   "cell_type": "code",
   "execution_count": null,
   "metadata": {
    "collapsed": false,
    "deletable": true,
    "editable": true,
    "scrolled": true
   },
   "outputs": [],
   "source": [
    "%%time\n",
    "# plot examples of sampling paths\n",
    "\n",
    "scores=[]\n",
    "ids=range(id_start,id_end)\n",
    "for i,graphlist in enumerate(graphs):\n",
    "    print 'Graph id: %d'%(ids[i])\n",
    "    scores.append(sampler.monitors[i].sampling_info['score_history'])\n",
    "    if BABELDRAW:\n",
    "        from graphlearn.utils import openbabel\n",
    "        openbabel.draw(graphlist, d3=False, n_graphs_per_line=6,size=200)\n",
    "    else:\n",
    "        from graphlearn.utils import draw\n",
    "        draw.graphlearn(graphlist,contract=True,#vertex_label='id',\n",
    "                   n_graphs_per_line=6, size=10, \n",
    "                   colormap='Paired', invert_colormap=False, vertex_color='_labels_',\n",
    "                   vertex_alpha=0.5, edge_alpha=0.2)\n",
    "    \n",
    " \n",
    "\n",
    " "
   ]
  },
  {
   "cell_type": "code",
   "execution_count": null,
   "metadata": {
    "collapsed": false,
    "deletable": true,
    "editable": true
   },
   "outputs": [],
   "source": [
    "# just looking at a monitor to check if everything is ok :) \n",
    "sampler.monitors[1].sampling_info"
   ]
  },
  {
   "cell_type": "markdown",
   "metadata": {
    "deletable": true,
    "editable": true
   },
   "source": [
    "# Show sample score history"
   ]
  },
  {
   "cell_type": "code",
   "execution_count": null,
   "metadata": {
    "collapsed": false,
    "deletable": true,
    "editable": true
   },
   "outputs": [],
   "source": [
    "%%time\n",
    "# plot sampling path score\n",
    "n_steps=sampler.n_steps\n",
    "n_samples= sampler.n_samples\n",
    "\n",
    "\n",
    "from itertools import islice\n",
    "import numpy as np\n",
    "import pylab as plt\n",
    "markevery=  n_steps/(n_samples) if n_samples else 10\n",
    "step=1\n",
    "num_graphs_per_plot=3\n",
    "\n",
    "import math\n",
    "num_plots= int(math.ceil(len(scores)/float(num_graphs_per_plot)))\n",
    "print num_plots\n",
    "for i in range(num_plots):\n",
    "    plt.figure(figsize=(13,5))\n",
    "    for j,score in enumerate(scores[i*num_graphs_per_plot:i*num_graphs_per_plot+num_graphs_per_plot]):\n",
    "     \n",
    "        data = list(islice(score,None, None, step))\n",
    "        plt.plot(data, linewidth=2, label='graph %d'%(j+i*num_graphs_per_plot+id_start))\n",
    "        plt.plot(data, linestyle='None',markevery=markevery, markerfacecolor='white', marker='o', markeredgewidth=2,markersize=6)\n",
    "    plt.legend(loc='lower right')\n",
    "    plt.grid()\n",
    "    plt.xlim(-1,n_steps+1)\n",
    "    plt.ylim(-0.1,1.1)\n",
    "    plt.show()\n",
    "    \n",
    "\n",
    "    "
   ]
  },
  {
   "cell_type": "markdown",
   "metadata": {
    "deletable": true,
    "editable": true
   },
   "source": [
    "---"
   ]
  }
 ],
 "metadata": {
  "kernelspec": {
   "display_name": "Python 2",
   "language": "python",
   "name": "python2"
  },
  "language_info": {
   "codemirror_mode": {
    "name": "ipython",
    "version": 2
   },
   "file_extension": ".py",
   "mimetype": "text/x-python",
   "name": "python",
   "nbconvert_exporter": "python",
   "pygments_lexer": "ipython2",
   "version": "2.7.12"
  }
 },
 "nbformat": 4,
 "nbformat_minor": 2
}
