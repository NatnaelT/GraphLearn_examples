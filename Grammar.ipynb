{
 "cells": [
  {
   "cell_type": "code",
   "execution_count": null,
   "metadata": {
    "collapsed": false,
    "scrolled": true
   },
   "outputs": [],
   "source": [
    "%load_ext autoreload\n",
    "%autoreload 2\n",
    "%matplotlib inline\n",
    "from eden.util import configure_logging\n",
    "import logging\n",
    "configure_logging(logging.getLogger(),verbosity=1)"
   ]
  },
  {
   "cell_type": "code",
   "execution_count": null,
   "metadata": {
    "collapsed": false,
    "scrolled": true
   },
   "outputs": [],
   "source": [
    "# get data\n",
    "from eden.converter.graph.gspan import gspan_to_eden\n",
    "from itertools import islice\n",
    "def get_graphs(dataset_fname, size=100):\n",
    "    return  islice(gspan_to_eden(dataset_fname),size)\n",
    "dataset_fname = 'toolsdata/bursi.pos.gspan'\n"
   ]
  },
  {
   "cell_type": "code",
   "execution_count": null,
   "metadata": {
    "collapsed": false
   },
   "outputs": [],
   "source": [
    "'''\n",
    "first we test the core/interface extractor, since it is most essential\n",
    "'''\n",
    "import graphlearn.utils.draw as draw\n",
    "from graphlearn.graph import extract_core_and_interface\n",
    "\n",
    "from eden.graph import Vectorizer\n",
    "vectorizer=Vectorizer()\n",
    "\n",
    "#get a graph and see what it looks like\n",
    "graphs = get_graphs(dataset_fname)\n",
    "graph = next(graphs)\n",
    "draw.graphlearn(graph, size=8, font_size=8, secondary_vertex_label='ID',\n",
    "        colormap='Paired', invert_colormap=False,node_border=0.5, vertex_color='_labels_',\n",
    "        vertex_alpha=0.7, node_size=900)\n",
    "\n",
    "\n",
    "\n",
    "# set some parameters and extract CIPS \n",
    "radius_list=[0,1]\n",
    "thickness_list=[2,3]\n",
    "cip=extract_core_and_interface(1,graph,radius_list=radius_list,thickness_list=thickness_list,vectorizer=vectorizer)\n",
    "\n",
    "\n",
    "# beautify and draw\n",
    "graph=draw.cip_to_drawable_graph(cip)\n",
    "draw.graphlearn(graph,\n",
    "              n_graphs_per_line=7, size=5, \n",
    "              colormap='Paired', invert_colormap=False,node_border=1,\n",
    "              vertex_alpha=0.6, edge_alpha=0.2, node_size=450)\n"
   ]
  },
  {
   "cell_type": "code",
   "execution_count": null,
   "metadata": {
    "collapsed": false
   },
   "outputs": [],
   "source": [
    "'''\n",
    "demonstrating more extract core\n",
    "'''\n",
    "from eden.converter.graph.gspan import gspan_to_eden\n",
    "import graphlearn.utils.draw \n",
    "from graphlearn.graph import extract_core_and_interface\n",
    "from eden.graph import Vectorizer\n",
    "\n",
    "\n",
    "graphs = get_graphs(dataset_fname, size=5)\n",
    "for graph in graphs:\n",
    "    graphs_list=[]\n",
    "    for node in range(1,4):\n",
    "        cips = extract_core_and_interface(node,graph,radius_list=[2],thickness_list=[1],vectorizer=Vectorizer())\n",
    "        # draw cip on the original graph and save in nice_graphs\n",
    "        cip_graphs = draw.cip_to_drawable_graph(cips)\n",
    "        for g,c in zip(cip_graphs,cips):\n",
    "            g.graph['info'] = str(c.interface_hash)\n",
    "        graphs_list += cip_graphs\n",
    "    # draw marked graphs\n",
    "    draw.graphlearn(graphs_list, contract=False,\n",
    "                              n_graphs_per_line=5, size=7, colormap='Paired', invert_colormap=False,node_border=1,\n",
    "                              vertex_alpha=0.6, edge_alpha=0.2, node_size=450)"
   ]
  },
  {
   "cell_type": "code",
   "execution_count": null,
   "metadata": {
    "collapsed": false,
    "scrolled": true
   },
   "outputs": [],
   "source": [
    "\n",
    "'''\n",
    "Demonstrating the filter function\n",
    "'''\n",
    "\n",
    "#get a graph\n",
    "graphs = get_graphs(dataset_fname, size=1)\n",
    "graph = next(graphs)\n",
    "import  graphlearn.utils.draw as draw\n",
    "import  graphlearn.graph as tools\n",
    "from eden.util import display as edisp\n",
    "from eden.graph import Vectorizer\n",
    "vectorizer=Vectorizer()\n",
    "\n",
    "print 'We work on this graph'\n",
    "draw.graphlearn(graph, size=10, secondary_vertex_label='ID',\n",
    "                   colormap='Paired', invert_colormap=False,node_border=0.5, vertex_color='_labels_',\n",
    "                   vertex_alpha=0.5, node_size=650)\n",
    "\n",
    "def show(cips):\n",
    "    graphs=draw.cip_to_drawable_graph(cips)\n",
    "    draw.graphlearn(graphs, n_graphs_per_line=7, size=5,\n",
    "                              colormap='Paired', invert_colormap=False,node_border=1,\n",
    "                              vertex_alpha=0.6, edge_alpha=0.2, node_size=450)\n",
    "    \n",
    "radius_list=[0,1,2]\n",
    "thickness_list=[1,2]\n",
    "graph.node[1]['no_root']=True\n",
    "#lets see.. without filter:\n",
    "\n",
    "cips=tools.extract_core_and_interface(1,graph,radius_list=radius_list,thickness_list=thickness_list,vectorizer=vectorizer)\n",
    "print 'no filter'\n",
    "show(cips)\n",
    "\n",
    "\n",
    "# lets do the same but with the filter\n",
    "cips=tools.extract_core_and_interface(1,graph,node_filter=tools.filter,radius_list=radius_list,thickness_list=thickness_list,vectorizer=vectorizer)\n",
    "print 'with filter: nothing should appear,,,'\n",
    "show(cips)\n",
    "\n",
    "# filter is ignoring unfiltered things:\n",
    "cips=tools.extract_core_and_interface(2,graph,node_filter=tools.filter,radius_list=radius_list,thickness_list=thickness_list,vectorizer=vectorizer)\n",
    "print 'with filter but we chose node 2 as root'\n",
    "show(cips)\n",
    "\n",
    "# no core attribute\n",
    "graph.node[1][\"not_in_core\"]=True\n",
    "graph.node[1].pop('no_root')\n",
    "cips=tools.extract_core_and_interface(2,graph,node_filter=tools.filter,radius_list=radius_list,thickness_list=thickness_list,vectorizer=vectorizer)\n",
    "print 'with filter but node \"1\" cant be part of a core, we gave 0 and 2 as radius list and only radius 2 will show up'\n",
    "show(cips)\n",
    "\n"
   ]
  },
  {
   "cell_type": "markdown",
   "metadata": {},
   "source": [
    "."
   ]
  }
 ],
 "metadata": {
  "kernelspec": {
   "display_name": "Python 2",
   "language": "python",
   "name": "python2"
  },
  "language_info": {
   "codemirror_mode": {
    "name": "ipython",
    "version": 2
   },
   "file_extension": ".py",
   "mimetype": "text/x-python",
   "name": "python",
   "nbconvert_exporter": "python",
   "pygments_lexer": "ipython2",
   "version": "2.7.10"
  }
 },
 "nbformat": 4,
 "nbformat_minor": 0
}
