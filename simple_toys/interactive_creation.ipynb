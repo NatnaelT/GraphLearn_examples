{
 "cells": [
  {
   "cell_type": "markdown",
   "metadata": {
    "collapsed": false
   },
   "source": [
    "# Interactive sampler\n",
    "\n",
    "1. train a sampler\n",
    "2. user can navigate through the sampling process"
   ]
  },
  {
   "cell_type": "markdown",
   "metadata": {
    "collapsed": true
   },
   "source": [
    "initialise notebook and logger:"
   ]
  },
  {
   "cell_type": "code",
   "execution_count": null,
   "metadata": {
    "collapsed": false
   },
   "outputs": [],
   "source": [
    "%load_ext autoreload\n",
    "%autoreload 2\n",
    "%matplotlib inline\n",
    "from eden.util import configure_logging\n",
    "import logging\n",
    "configure_logging(logging.getLogger(),verbosity=1)"
   ]
  },
  {
   "cell_type": "markdown",
   "metadata": {},
   "source": [
    "## train sampler"
   ]
  },
  {
   "cell_type": "code",
   "execution_count": null,
   "metadata": {
    "collapsed": false,
    "scrolled": false
   },
   "outputs": [],
   "source": [
    "%%time\n",
    "'''\n",
    "FIRST WE TRAIN A GRAPHSAMPLER\n",
    "'''\n",
    "import graphlearn.utils.draw as myutils\n",
    "import graphlearn.graphlearn as gl\n",
    "from eden.converter.graph.gspan import gspan_to_eden\n",
    "import itertools\n",
    "import graphlearn.utils.interactive as interactive\n",
    "\n",
    "# get training graphs\n",
    "training_graphs = gspan_to_eden( '../toolsdata/bursi.pos.gspan' )\n",
    "training_size=200\n",
    "training_graphs = itertools.islice(training_graphs,training_size)\n",
    "\n",
    "#create a sampler and fit on training\n",
    "sampler=gl.Sampler(radius_list=[0,1], thickness_list=[2],random_state=42447,\n",
    "                 min_cip_count=2, min_interface_count=2,decomposer=interactive.mywrap)\n",
    "sampler.fit(training_graphs)\n",
    "\n",
    "#prepare interactive module\n",
    "interactive.setparameters(sampler)\n",
    "\n",
    "print 'OK'"
   ]
  },
  {
   "cell_type": "markdown",
   "metadata": {
    "collapsed": false
   },
   "source": [
    "## help the sampler in deciding which generated graph to accept"
   ]
  },
  {
   "cell_type": "code",
   "execution_count": null,
   "metadata": {
    "collapsed": false,
    "scrolled": false
   },
   "outputs": [],
   "source": [
    "import networkx as nx\n",
    "from graphlearn.utils import draw\n",
    "from graphlearn.utils import openbabel\n",
    "\n",
    "# choose a start graph\n",
    "gr = gspan_to_eden( '../toolsdata/bursi.pos.gspan' )\n",
    "CURRENT = sampler._sample_init(gr.next())\n",
    "\n",
    "while True:\n",
    "    # generate 8 graphs\n",
    "    graphmanz=interactive.easy_get_new_graphs(CURRENT,sampler)\n",
    "    # put old one in middle (of the plot)\n",
    "    g=[grman.base_graph() for grman in graphmanz ]\n",
    "    g=g[:4]+[CURRENT.base_graph()]+g[4:]\n",
    "    # draw them \n",
    "    #draw.graphlearn(g,n_graphs_per_line=3, node_size=400,contract=True,node_border=0.5)\n",
    "    openbabel.draw(g,n_graphs_per_line=3,title_key='info')\n",
    "    \n",
    "    #pick a graph that is the new CURRENT\n",
    "    x=raw_input()\n",
    "    CURRENT=graphmanz[int(x)]\n",
    "    CURRENT.real_clean()"
   ]
  },
  {
   "cell_type": "markdown",
   "metadata": {},
   "source": [
    "## EXPERT MODE\n",
    "\n",
    "help the sampler in finding good graph instances\n",
    "\n",
    "but this time you get to choose a node in the graph you want to work with\n",
    "as well as the CIP that will be transplanted!\n"
   ]
  },
  {
   "cell_type": "code",
   "execution_count": null,
   "metadata": {
    "collapsed": false,
    "scrolled": false
   },
   "outputs": [],
   "source": [
    "import networkx as nx\n",
    "from graphlearn.utils import draw\n",
    "\n",
    "\n",
    "# initialize and provide a graph to work on\n",
    "args=interactive.getargz(sampler)\n",
    "gr = gspan_to_eden( '../toolsdata/bursi.pos.gspan' )\n",
    "CURRENT = sampler._sample_init(gr.next())\n",
    "\n",
    "\n",
    "while True: \n",
    "    # draw graph and choose node\n",
    "    draw.graphlearn(CURRENT.base_graph(),secondary_vertex_label='id',size=15,contract=True, node_size=1400,font_size=20,node_border=0.5)\n",
    "    print \"choose a node\"\n",
    "    node_id=int(raw_input())\n",
    "    \n",
    "    # draw new cips and choose one\n",
    "    cips=interactive.get_cips(CURRENT,sampler,node_id,args)\n",
    "    if len(cips)==0:\n",
    "        print 'no replacements found,try again'\n",
    "        continue\n",
    "    cip_graphs=[ c.graph for c in cips ]\n",
    "    draw.graphlearn(cip_graphs, node_border=0.5, node_size=400,font_size=17,contract=True,title_key='info')\n",
    "    print \"choose a CIP; red nodes will be added\"\n",
    "    cip_id=int(raw_input())\n",
    "    \n",
    "    #replace and clean\n",
    "    gr=CURRENT.core_substitution( cips[cip_id].orig, cip_graphs[cip_id])\n",
    "    CURRENT=sampler.decomposer_generator(sampler.graphtransformer.re_transform_single(gr))\n",
    "    CURRENT.real_clean()"
   ]
  },
  {
   "cell_type": "markdown",
   "metadata": {},
   "source": [
    "---"
   ]
  }
 ],
 "metadata": {
  "kernelspec": {
   "display_name": "Python 2",
   "language": "python",
   "name": "python2"
  },
  "language_info": {
   "codemirror_mode": {
    "name": "ipython",
    "version": 2
   },
   "file_extension": ".py",
   "mimetype": "text/x-python",
   "name": "python",
   "nbconvert_exporter": "python",
   "pygments_lexer": "ipython2",
   "version": "2.7.10"
  }
 },
 "nbformat": 4,
 "nbformat_minor": 0
}
