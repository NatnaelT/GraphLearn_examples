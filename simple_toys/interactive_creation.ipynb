{
 "cells": [
  {
   "cell_type": "code",
   "execution_count": null,
   "metadata": {
    "collapsed": false
   },
   "outputs": [],
   "source": [
    "%load_ext autoreload\n",
    "%autoreload 2\n"
   ]
  },
  {
   "cell_type": "code",
   "execution_count": null,
   "metadata": {
    "collapsed": true
   },
   "outputs": [],
   "source": [
    "from eden.util import configure_logging\n",
    "import logging\n",
    "configure_logging(logging.getLogger(),verbosity=1)"
   ]
  },
  {
   "cell_type": "code",
   "execution_count": null,
   "metadata": {
    "collapsed": false
   },
   "outputs": [],
   "source": [
    "'''\n",
    "preparing fake preproc and graphwrap\n",
    "'''\n",
    "\n",
    "from graphlearn.processing import PreProcessor\n",
    "from graphlearn.graph import Wrapper\n",
    "import graphlearn\n",
    "class mywrap(Wrapper):\n",
    "    def clean(self):\n",
    "        return\n",
    "    def real_clean(self):\n",
    "        graphlearn.graph.graph_clean(self._base_graph)\n",
    "\n",
    "class mypp(PreProcessor):           \n",
    "    def wrap(self,graph):\n",
    "        return mywrap(graph,self.vectorizer)\n",
    "    \n"
   ]
  },
  {
   "cell_type": "code",
   "execution_count": null,
   "metadata": {
    "collapsed": false,
    "scrolled": false
   },
   "outputs": [],
   "source": [
    "%%time\n",
    "'''\n",
    "FIRST WE TRAIN A GRAPHSAMPLER\n",
    "'''\n",
    "import sys\n",
    "sys.path.append('..')\n",
    "import os \n",
    "os.nice(20)\n",
    "%matplotlib inline\n",
    "import graphlearn.utils.draw as myutils\n",
    "import graphlearn.graphlearn as gl\n",
    "from eden.converter.graph.gspan import gspan_to_eden\n",
    "import itertools\n",
    "import graphlearn.utils.interactive as interactive\n",
    "\n",
    "# setting things up...\n",
    "training_graphs = gspan_to_eden( '../toolsdata/bursi.pos.gspan' )\n",
    "training_size=200\n",
    "training_graphs = itertools.islice(training_graphs,training_size)\n",
    "sampler=gl.Sampler(radius_list=[0,1], thickness_list=[2],random_state=42447,\n",
    "                          min_cip_count=2, min_interface_count=2,preprocessor=mypp())\n",
    "#fitting sampler\n",
    "sampler.fit(training_graphs)\n",
    "#sampler.save('tmp/sampler_200.ge')\n",
    "#loading sampler\n",
    "#ampler.load('tmp/sampler_200.ge')\n",
    "interactive.setparameters(sampler)\n",
    "\n",
    "print 'OK'"
   ]
  },
  {
   "cell_type": "code",
   "execution_count": null,
   "metadata": {
    "collapsed": false
   },
   "outputs": [],
   "source": []
  },
  {
   "cell_type": "code",
   "execution_count": null,
   "metadata": {
    "collapsed": false
   },
   "outputs": [],
   "source": []
  },
  {
   "cell_type": "code",
   "execution_count": null,
   "metadata": {
    "collapsed": false,
    "scrolled": false
   },
   "outputs": [],
   "source": [
    "'''\n",
    "easy mode\n",
    "\n",
    "choose from randomly chosen graphs\n",
    "\n",
    "'''\n",
    "import networkx as nx\n",
    "\n",
    "from graphlearn.utils import draw\n",
    "gr = gspan_to_eden( '../toolsdata/bursi.pos.gspan' )\n",
    "CURRENT = sampler._sample_init(gr.next())\n",
    "\n",
    "while True:\n",
    "    # generate 8 graphs\n",
    "    graphmanz=interactive.easy_get_new_graphs(CURRENT,sampler)\n",
    "    # put old ine in middle\n",
    "    g=[grman.base_graph() for grman in graphmanz ]\n",
    "    g=g[:4]+[CURRENT.base_graph()]+g[4:]\n",
    "    # draw them \n",
    "    draw.graphlearn(g,n_graphs_per_line=3, node_size=400,contract=True,node_border=0.5)\n",
    "    #pick one\n",
    "    x=raw_input()\n",
    "    CURRENT=graphmanz[int(x)]\n",
    "    CURRENT.real_clean()"
   ]
  },
  {
   "cell_type": "code",
   "execution_count": null,
   "metadata": {
    "collapsed": false,
    "scrolled": false
   },
   "outputs": [],
   "source": [
    "\n"
   ]
  },
  {
   "cell_type": "code",
   "execution_count": 5,
   "metadata": {
    "collapsed": false,
    "scrolled": false
   },
   "outputs": [
    {
     "ename": "KeyboardInterrupt",
     "evalue": "",
     "output_type": "error",
     "traceback": [
      "\u001b[1;31m---------------------------------------------------------------------------\u001b[0m",
      "\u001b[1;31mKeyboardInterrupt\u001b[0m                         Traceback (most recent call last)",
      "\u001b[1;32m<ipython-input-5-dcb4daf8a6fc>\u001b[0m in \u001b[0;36m<module>\u001b[1;34m()\u001b[0m\n\u001b[0;32m     22\u001b[0m     \u001b[0mdraw\u001b[0m\u001b[1;33m.\u001b[0m\u001b[0mgraphlearn\u001b[0m\u001b[1;33m(\u001b[0m\u001b[0mCURRENT\u001b[0m\u001b[1;33m.\u001b[0m\u001b[0mbase_graph\u001b[0m\u001b[1;33m(\u001b[0m\u001b[1;33m)\u001b[0m\u001b[1;33m,\u001b[0m\u001b[0msecondary_vertex_label\u001b[0m\u001b[1;33m=\u001b[0m\u001b[1;34m'id'\u001b[0m\u001b[1;33m,\u001b[0m\u001b[0msize\u001b[0m\u001b[1;33m=\u001b[0m\u001b[1;36m15\u001b[0m\u001b[1;33m,\u001b[0m\u001b[0mcontract\u001b[0m\u001b[1;33m=\u001b[0m\u001b[0mTrue\u001b[0m\u001b[1;33m,\u001b[0m \u001b[0mnode_size\u001b[0m\u001b[1;33m=\u001b[0m\u001b[1;36m1400\u001b[0m\u001b[1;33m,\u001b[0m\u001b[0mfont_size\u001b[0m\u001b[1;33m=\u001b[0m\u001b[1;36m20\u001b[0m\u001b[1;33m,\u001b[0m\u001b[0mnode_border\u001b[0m\u001b[1;33m=\u001b[0m\u001b[1;36m0.5\u001b[0m\u001b[1;33m)\u001b[0m\u001b[1;33m\u001b[0m\u001b[0m\n\u001b[0;32m     23\u001b[0m     \u001b[1;32mprint\u001b[0m \u001b[1;34m\"choose a node\"\u001b[0m\u001b[1;33m\u001b[0m\u001b[0m\n\u001b[1;32m---> 24\u001b[1;33m     \u001b[0mnode_id\u001b[0m\u001b[1;33m=\u001b[0m\u001b[0mint\u001b[0m\u001b[1;33m(\u001b[0m\u001b[0mraw_input\u001b[0m\u001b[1;33m(\u001b[0m\u001b[1;33m)\u001b[0m\u001b[1;33m)\u001b[0m\u001b[1;33m\u001b[0m\u001b[0m\n\u001b[0m\u001b[0;32m     25\u001b[0m \u001b[1;33m\u001b[0m\u001b[0m\n\u001b[0;32m     26\u001b[0m     \u001b[1;31m# draw new cips and choose one\u001b[0m\u001b[1;33m\u001b[0m\u001b[1;33m\u001b[0m\u001b[0m\n",
      "\u001b[1;32m/home/martners/.local/lib/python2.7/site-packages/ipykernel/kernelbase.pyc\u001b[0m in \u001b[0;36mraw_input\u001b[1;34m(self, prompt)\u001b[0m\n\u001b[0;32m    675\u001b[0m             \u001b[0mself\u001b[0m\u001b[1;33m.\u001b[0m\u001b[0m_parent_ident\u001b[0m\u001b[1;33m,\u001b[0m\u001b[1;33m\u001b[0m\u001b[0m\n\u001b[0;32m    676\u001b[0m             \u001b[0mself\u001b[0m\u001b[1;33m.\u001b[0m\u001b[0m_parent_header\u001b[0m\u001b[1;33m,\u001b[0m\u001b[1;33m\u001b[0m\u001b[0m\n\u001b[1;32m--> 677\u001b[1;33m             \u001b[0mpassword\u001b[0m\u001b[1;33m=\u001b[0m\u001b[0mFalse\u001b[0m\u001b[1;33m,\u001b[0m\u001b[1;33m\u001b[0m\u001b[0m\n\u001b[0m\u001b[0;32m    678\u001b[0m         )\n\u001b[0;32m    679\u001b[0m \u001b[1;33m\u001b[0m\u001b[0m\n",
      "\u001b[1;32m/home/martners/.local/lib/python2.7/site-packages/ipykernel/kernelbase.pyc\u001b[0m in \u001b[0;36m_input_request\u001b[1;34m(self, prompt, ident, parent, password)\u001b[0m\n\u001b[0;32m    705\u001b[0m             \u001b[1;32mexcept\u001b[0m \u001b[0mKeyboardInterrupt\u001b[0m\u001b[1;33m:\u001b[0m\u001b[1;33m\u001b[0m\u001b[0m\n\u001b[0;32m    706\u001b[0m                 \u001b[1;31m# re-raise KeyboardInterrupt, to truncate traceback\u001b[0m\u001b[1;33m\u001b[0m\u001b[1;33m\u001b[0m\u001b[0m\n\u001b[1;32m--> 707\u001b[1;33m                 \u001b[1;32mraise\u001b[0m \u001b[0mKeyboardInterrupt\u001b[0m\u001b[1;33m\u001b[0m\u001b[0m\n\u001b[0m\u001b[0;32m    708\u001b[0m             \u001b[1;32melse\u001b[0m\u001b[1;33m:\u001b[0m\u001b[1;33m\u001b[0m\u001b[0m\n\u001b[0;32m    709\u001b[0m                 \u001b[1;32mbreak\u001b[0m\u001b[1;33m\u001b[0m\u001b[0m\n",
      "\u001b[1;31mKeyboardInterrupt\u001b[0m: "
     ]
    }
   ],
   "source": [
    "'''\n",
    "MAX CONTROL MODE\n",
    "\n",
    "choose node and replacement CIPs\n",
    "'''\n",
    "import networkx as nx\n",
    "from graphlearn.utils import draw\n",
    "\n",
    "\n",
    "# initialize and provide a graph to work on\n",
    "args=interactive.getargz(sampler)\n",
    "gr = gspan_to_eden( '../toolsdata/bursi.pos.gspan' )\n",
    "CURRENT = sampler._sample_init(gr.next())\n",
    "\n",
    "\n",
    "while True: \n",
    "    # draw graph and choose node\n",
    "    draw.graphlearn(CURRENT.base_graph(),secondary_vertex_label='id',size=15,contract=True, node_size=1400,font_size=20,node_border=0.5)\n",
    "    print \"choose a node\"\n",
    "    node_id=int(raw_input())\n",
    "    \n",
    "    # draw new cips and choose one\n",
    "    cips=interactive.get_cips(CURRENT,sampler,node_id,args)\n",
    "    if len(cips)==0:\n",
    "        print 'no replacements found,try again'\n",
    "        continue\n",
    "    cip_graphs=[ c.graph for c in cips ]\n",
    "    draw.graphlearn(cip_graphs, node_border=0.5, node_size=400,font_size=17,contract=True,title_key='info')\n",
    "    print \"choose a CIP; red nodes will be added\"\n",
    "    cip_id=int(raw_input())\n",
    "    \n",
    "    #replace and clean\n",
    "    gr=CURRENT.core_substitution( cips[cip_id].orig, cip_graphs[cip_id])\n",
    "    CURRENT=sampler.preprocessor.re_transform_single(gr)\n",
    "    CURRENT.real_clean()\n",
    "    "
   ]
  },
  {
   "cell_type": "code",
   "execution_count": null,
   "metadata": {
    "collapsed": false
   },
   "outputs": [],
   "source": []
  },
  {
   "cell_type": "code",
   "execution_count": null,
   "metadata": {
    "collapsed": true
   },
   "outputs": [],
   "source": []
  }
 ],
 "metadata": {
  "kernelspec": {
   "display_name": "Python 2",
   "language": "python",
   "name": "python2"
  },
  "language_info": {
   "codemirror_mode": {
    "name": "ipython",
    "version": 2
   },
   "file_extension": ".py",
   "mimetype": "text/x-python",
   "name": "python",
   "nbconvert_exporter": "python",
   "pygments_lexer": "ipython2",
   "version": "2.7.10"
  }
 },
 "nbformat": 4,
 "nbformat_minor": 0
}
