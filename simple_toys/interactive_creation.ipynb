{
 "cells": [
  {
   "cell_type": "code",
   "execution_count": null,
   "metadata": {
    "collapsed": false
   },
   "outputs": [],
   "source": [
    "%load_ext autoreload\n",
    "%autoreload 2\n"
   ]
  },
  {
   "cell_type": "code",
   "execution_count": null,
   "metadata": {
    "collapsed": true
   },
   "outputs": [],
   "source": [
    "from eden.util import configure_logging\n",
    "import logging\n",
    "configure_logging(logging.getLogger(),verbosity=1)"
   ]
  },
  {
   "cell_type": "code",
   "execution_count": null,
   "metadata": {
    "collapsed": false
   },
   "outputs": [],
   "source": [
    "'''\n",
    "preparing fake preproc and graphwrap\n",
    "'''\n",
    "\n",
    "from graphlearn.processing import PreProcessor\n",
    "from graphlearn.graph import Wrapper\n",
    "import graphlearn\n",
    "class mywrap(Wrapper):\n",
    "    def clean(self):\n",
    "        return\n",
    "    def real_clean(self):\n",
    "        graphlearn.graph.graph_clean(self._base_graph)\n",
    "\n",
    "class mypp(PreProcessor):           \n",
    "    def wrap(self,graph):\n",
    "        return mywrap(graph,self.vectorizer)\n",
    "    \n"
   ]
  },
  {
   "cell_type": "code",
   "execution_count": null,
   "metadata": {
    "collapsed": false,
    "scrolled": false
   },
   "outputs": [],
   "source": [
    "%%time\n",
    "'''\n",
    "FIRST WE TRAIN A GRAPHSAMPLER\n",
    "'''\n",
    "import sys\n",
    "sys.path.append('..')\n",
    "import os \n",
    "os.nice(20)\n",
    "%matplotlib inline\n",
    "import graphlearn.utils.draw as myutils\n",
    "import graphlearn.graphlearn as gl\n",
    "from eden.converter.graph.gspan import gspan_to_eden\n",
    "import itertools\n",
    "import graphlearn.utils.interactive as interactive\n",
    "\n",
    "# setting things up...\n",
    "training_graphs = gspan_to_eden( '../toolsdata/bursi.pos.gspan' )\n",
    "training_size=200\n",
    "training_graphs = itertools.islice(training_graphs,training_size)\n",
    "sampler=gl.Sampler(radius_list=[0,1], thickness_list=[2],random_state=42447,\n",
    "                          min_cip_count=2, min_interface_count=2,preprocessor=mypp())\n",
    "#fitting sampler\n",
    "sampler.fit(training_graphs)\n",
    "#sampler.save('tmp/sampler_200.ge')\n",
    "#loading sampler\n",
    "#ampler.load('tmp/sampler_200.ge')\n",
    "interactive.setparameters(sampler)\n",
    "\n",
    "print 'OK'"
   ]
  },
  {
   "cell_type": "code",
   "execution_count": null,
   "metadata": {
    "collapsed": false
   },
   "outputs": [],
   "source": []
  },
  {
   "cell_type": "code",
   "execution_count": null,
   "metadata": {
    "collapsed": false
   },
   "outputs": [],
   "source": []
  },
  {
   "cell_type": "code",
   "execution_count": null,
   "metadata": {
    "collapsed": false,
    "scrolled": false
   },
   "outputs": [],
   "source": [
    "'''\n",
    "easy mode\n",
    "\n",
    "choose from randomly chosen graphs\n",
    "\n",
    "'''\n",
    "import networkx as nx\n",
    "\n",
    "from graphlearn.utils import draw\n",
    "gr = gspan_to_eden( '../toolsdata/bursi.pos.gspan' )\n",
    "CURRENT = sampler._sample_init(gr.next())\n",
    "\n",
    "while True:\n",
    "    # generate 8 graphs\n",
    "    graphmanz=interactive.easy_get_new_graphs(CURRENT,sampler)\n",
    "    # put old ine in middle\n",
    "    g=[grman.base_graph() for grman in graphmanz ]\n",
    "    g=g[:4]+[CURRENT.base_graph()]+g[4:]\n",
    "    # draw them \n",
    "    draw.graphlearn(g,n_graphs_per_line=3, node_size=400,contract=True,node_border=0.5)\n",
    "    #pick one\n",
    "    x=raw_input()\n",
    "    CURRENT=graphmanz[int(x)]\n",
    "    CURRENT.real_clean()"
   ]
  },
  {
   "cell_type": "code",
   "execution_count": null,
   "metadata": {
    "collapsed": false,
    "scrolled": false
   },
   "outputs": [],
   "source": [
    "\n"
   ]
  },
  {
   "cell_type": "code",
   "execution_count": null,
   "metadata": {
    "collapsed": false,
    "scrolled": false
   },
   "outputs": [],
   "source": [
    "'''\n",
    "MAX CONTROL MODE\n",
    "\n",
    "choose node and replacement CIPs\n",
    "'''\n",
    "import networkx as nx\n",
    "from graphlearn.utils import draw\n",
    "\n",
    "\n",
    "# initialize and provide a graph to work on\n",
    "args=interactive.getargz(sampler)\n",
    "gr = gspan_to_eden( '../toolsdata/bursi.pos.gspan' )\n",
    "CURRENT = sampler._sample_init(gr.next())\n",
    "\n",
    "\n",
    "while True: \n",
    "    # draw graph and choose node\n",
    "    draw.graphlearn(CURRENT.base_graph(),secondary_vertex_label='id',size=15,contract=True, node_size=1400,font_size=20,node_border=0.5)\n",
    "    print \"choose a node\"\n",
    "    node_id=int(raw_input())\n",
    "    \n",
    "    # draw new cips and choose one\n",
    "    cips=interactive.get_cips(CURRENT,sampler,node_id,args)\n",
    "    if len(cips)==0:\n",
    "        print 'no replacements found,try again'\n",
    "        continue\n",
    "    cip_graphs=[ c.graph for c in cips ]\n",
    "    draw.graphlearn(cip_graphs, node_border=0.5, node_size=400,font_size=17,contract=True,title_key='info')\n",
    "    print \"choose a CIP; red nodes will be added\"\n",
    "    cip_id=int(raw_input())\n",
    "    \n",
    "    #replace and clean\n",
    "    gr=CURRENT.core_substitution( cips[cip_id].orig, cip_graphs[cip_id])\n",
    "    CURRENT=sampler.preprocessor.re_transform_single(gr)\n",
    "    CURRENT.real_clean()\n",
    "    "
   ]
  },
  {
   "cell_type": "code",
   "execution_count": null,
   "metadata": {
    "collapsed": false
   },
   "outputs": [],
   "source": []
  },
  {
   "cell_type": "code",
   "execution_count": null,
   "metadata": {
    "collapsed": true
   },
   "outputs": [],
   "source": []
  }
 ],
 "metadata": {
  "kernelspec": {
   "display_name": "Python 2",
   "language": "python",
   "name": "python2"
  },
  "language_info": {
   "codemirror_mode": {
    "name": "ipython",
    "version": 2
   },
   "file_extension": ".py",
   "mimetype": "text/x-python",
   "name": "python",
   "nbconvert_exporter": "python",
   "pygments_lexer": "ipython2",
   "version": "2.7.10"
  }
 },
 "nbformat": 4,
 "nbformat_minor": 0
}
