{
 "cells": [
  {
   "cell_type": "code",
   "execution_count": 24,
   "metadata": {
    "collapsed": false
   },
   "outputs": [
    {
     "name": "stdout",
     "output_type": "stream",
     "text": [
      "The autoreload extension is already loaded. To reload it, use:\n",
      "  %reload_ext autoreload\n"
     ]
    }
   ],
   "source": [
    "from IPython.html import widgets\n",
    "from IPython.display import display\n",
    "from d3networkx import ForceDirectedGraph, EventfulGraph\n",
    "import time\n",
    "%load_ext autoreload\n",
    "%autoreload 2\n"
   ]
  },
  {
   "cell_type": "code",
   "execution_count": 25,
   "metadata": {
    "collapsed": true
   },
   "outputs": [],
   "source": [
    "from eden.util import configure_logging\n",
    "import logging\n",
    "configure_logging(logging.getLogger(),verbosity=1)"
   ]
  },
  {
   "cell_type": "code",
   "execution_count": 26,
   "metadata": {
    "collapsed": false
   },
   "outputs": [],
   "source": [
    "'''\n",
    "preparing fake preproc and graphwrap\n",
    "'''\n",
    "\n",
    "from graphlearn.processing import PreProcessor\n",
    "from graphlearn.graph import Wrapper\n",
    "import graphlearn\n",
    "class mywrap(Wrapper):\n",
    "    def clean(self):\n",
    "        return\n",
    "    def real_clean(self):\n",
    "        graphlearn.graph.graph_clean(self._base_graph)\n",
    "\n",
    "class mypp(PreProcessor):           \n",
    "    def wrap(self,graph):\n",
    "        return mywrap(graph,self.vectorizer)\n",
    "    \n"
   ]
  },
  {
   "cell_type": "code",
   "execution_count": 27,
   "metadata": {
    "collapsed": false,
    "scrolled": false
   },
   "outputs": [
    {
     "name": "stdout",
     "output_type": "stream",
     "text": [
      "CPU times: user 3.01 s, sys: 284 ms, total: 3.29 s\n",
      "Wall time: 5.99 s\n"
     ]
    }
   ],
   "source": [
    "%%time\n",
    "'''\n",
    "FIRST WE TRAIN A GRAPHSAMPLER\n",
    "'''\n",
    "import sys\n",
    "sys.path.append('..')\n",
    "import os \n",
    "os.nice(20)\n",
    "%matplotlib inline\n",
    "import graphlearn.utils.draw as myutils\n",
    "import graphlearn.graphlearn as gl\n",
    "from eden.converter.graph.gspan import gspan_to_eden\n",
    "import itertools\n",
    "import graphlearn.utils.interactive as interactive\n",
    "\n",
    "# setting things up...\n",
    "training_graphs = gspan_to_eden( '../toolsdata/bursi.pos.gspan' )\n",
    "training_size=200\n",
    "training_graphs = itertools.islice(training_graphs,training_size)\n",
    "sampler=gl.Sampler(radius_list=[0,1], thickness_list=[2],random_state=42447,\n",
    "                          min_cip_count=2, min_interface_count=2,preprocessor=mypp())\n",
    "#fitting sampler\n",
    "sampler.fit(training_graphs)\n",
    "#sampler.save('tmp/sampler_200.ge')\n",
    "#loading sampler\n",
    "#ampler.load('tmp/sampler_200.ge')\n",
    "interactive.setparameters(sampler)"
   ]
  },
  {
   "cell_type": "code",
   "execution_count": null,
   "metadata": {
    "collapsed": false
   },
   "outputs": [],
   "source": []
  },
  {
   "cell_type": "code",
   "execution_count": 97,
   "metadata": {
    "collapsed": false,
    "scrolled": false
   },
   "outputs": [],
   "source": [
    "import networkx as nx\n",
    "from graphlearn.utils import draw\n",
    "from graphlearn import graph as GRAPH\n",
    "\n",
    "\"\"\"MAGIC HAPPENS HERE\"\"\"\n",
    "def transparent_core_substitution(graph,orig_cip_graph,new_cip_graph , CANVAS,SLEEPTIME):\n",
    "\n",
    "    # GET INTERFACE GRAPHS\n",
    "    new_graph_interface_nodes = [n for n, d in new_cip_graph.nodes(data=True) if 'core' not in d]\n",
    "    new_cip_interface_graph = nx.subgraph(new_cip_graph, new_graph_interface_nodes)\n",
    "    original_graph_interface_nodes = [n for n, d in orig_cip_graph.nodes(data=True) if 'core' not in d]\n",
    "    original_interface_graph = nx.subgraph(orig_cip_graph, original_graph_interface_nodes)\n",
    "    # GET ISOMORPHISM\n",
    "    iso = GRAPH.get_good_isomorphism(graph,\n",
    "                               orig_cip_graph,\n",
    "                               new_cip_graph,\n",
    "                               original_interface_graph,\n",
    "                               new_cip_interface_graph)\n",
    "    if len(iso) != len(original_interface_graph):\n",
    "        print \"OH MY GOD\"\n",
    "    \n",
    "    '''ADDING COLORS'''\n",
    "    for n, d in new_cip_graph.nodes(data=True):\n",
    "        if 'core' in d: \n",
    "            d['fill']='red'\n",
    "        else:\n",
    "            d['fill']='cyan'\n",
    "            d['color']='back'\n",
    "    for n, d in orig_cip_graph.nodes(data=True):\n",
    "        if 'core' in d: \n",
    "            graph.node[n]['fill']='red'\n",
    "        else:\n",
    "            graph.node[n]['fill']='yellow'\n",
    "            graph.node[n]['color']='back'\n",
    "            graph.node[n]['stroke']=3\n",
    "            \n",
    "    # MAKE UNION\n",
    "    graph = nx.union(graph, new_cip_graph, rename=('', '-'))\n",
    "    '''DRAW UNION'''\n",
    "    CANVAS.add_nodes_from(graph.nodes(data=True))\n",
    "    CANVAS.add_edges_from(graph.edges(data=True))\n",
    "    time.sleep(SLEEPTIME)\n",
    "    '''DRAW ISOMORPHISM'''\n",
    "    for k, v in iso.iteritems():\n",
    "        #graph.node[str(k)]['interface']=True  # i am marking the interface only for the backflow probability calculation in graphlearn, this is probably deleteable because we also do this in merge, also this line is superlong Ooo\n",
    "        CANVAS.add_edge( str(k), '-' + str(v), distance=200, strokewidth='1px', strength=0.15,stroke='green')\n",
    "    time.sleep(SLEEPTIME)\n",
    "    \n",
    "    \n",
    "    \n",
    "    # REMOVE OLD CORE\n",
    "    original_graph_core_nodes = [n for n, d in orig_cip_graph.nodes(data=True) if 'core' in d]\n",
    "    for n in original_graph_core_nodes:\n",
    "        graph.remove_node(str(n))\n",
    "        CANVAS.remove_node(str(n))\n",
    "    time.sleep(SLEEPTIME)\n",
    "\n",
    "        \n",
    "    #MERGE INTERFACE\n",
    "    for k, v in iso.iteritems():\n",
    "        graph.node[str(k)]['interface']=True  # i am marking the interface only for the backflow probability calculation in graphlearn, this is probably deleteable because we also do this in merge, also this line is superlong Ooo\n",
    "        GRAPH.merge(graph, str(k), '-' + str(v))\n",
    "        \n",
    "        for n in CANVAS.neighbors('-' + str(v)):\n",
    "            CANVAS.add_edge(str(k), n)\n",
    "        CANVAS.remove_node('-' + str(v))\n",
    "    time.sleep(SLEEPTIME)\n",
    "        \n",
    "          \n",
    "    # MAKE LABELS INT LABELS\n",
    "    gr = nx.convert_node_labels_to_integers(graph)\n",
    "    \n",
    "    return gr\n",
    "    \n"
   ]
  },
  {
   "cell_type": "code",
   "execution_count": 98,
   "metadata": {
    "collapsed": false
   },
   "outputs": [],
   "source": [
    "\n",
    "\n"
   ]
  },
  {
   "cell_type": "code",
   "execution_count": 101,
   "metadata": {
    "collapsed": false,
    "scrolled": false
   },
   "outputs": [],
   "source": [
    "G = EventfulGraph()\n",
    "d3 = ForceDirectedGraph(G)\n",
    "\n",
    "# FIXING FORCEDIRECTEDGRAPH ;;; this is a little crappy \n",
    "from IPython.utils.traitlets import Unicode, CInt, CFloat \n",
    "'''\n",
    "d3.width = CInt(800, sync=True)\n",
    "d3.height = CInt(800, sync=True)\n",
    "d3.charge = CFloat(270., sync=True)\n",
    "d3.distance = CInt(30., sync=True)\n",
    "d3.strength = CInt(0.3, sync=True)\n",
    "'''\n",
    "d3.width=800\n",
    "d3.height=800\n",
    "\n",
    "\n",
    "'''\n",
    "IF YOU WANT TO LOOK FOR GRAPHS AND CIPS GOTO THE INTERACTIVE AND PICK THERE\n",
    "'''\n",
    "#DRAW!\n",
    "display(d3)\n",
    "\n",
    "args=interactive.getargz(sampler)\n",
    "# choose a graph, to start\n",
    "gr = gspan_to_eden( '../toolsdata/bursi.pos.gspan' )\n",
    "CURRENT = sampler._sample_init(gr.next())\n",
    "\n",
    "#choose a node to sub\n",
    "node_id=19\n",
    "\n",
    "#choose a cip\n",
    "cips=interactive.get_cips(CURRENT,sampler,node_id,args)\n",
    "cip_id=1\n",
    "\n",
    "graph=CURRENT.base_graph()\n",
    "orig_cip_graph=cips[cip_id].orig\n",
    "new_cip_graph=cips[cip_id].graph\n",
    "\n",
    "graph=draw.contract_edges(graph)\n",
    "orig_cip_graph=draw.contract_edges(orig_cip_graph)\n",
    "new_cip_graph=draw.contract_edges(new_cip_graph)\n",
    "gr = transparent_core_substitution(graph,orig_cip_graph,new_cip_graph, G,3)\n",
    "\n",
    "#CURRENT=sampler.preprocessor.re_transform_single(gr)\n",
    "#CURRENT.real_clean()\n",
    "#draw.graphlearn(CURRENT.base_graph())"
   ]
  },
  {
   "cell_type": "code",
   "execution_count": 25,
   "metadata": {
    "collapsed": false
   },
   "outputs": [
    {
     "ename": "KeyError",
     "evalue": "'info'",
     "output_type": "error",
     "traceback": [
      "\u001b[1;31m---------------------------------------------------------------------------\u001b[0m",
      "\u001b[1;31mKeyError\u001b[0m                                  Traceback (most recent call last)",
      "\u001b[1;32m<ipython-input-25-e09ccda437b6>\u001b[0m in \u001b[0;36m<module>\u001b[1;34m()\u001b[0m\n\u001b[1;32m----> 1\u001b[1;33m \u001b[1;32mprint\u001b[0m \u001b[0mcip_graphs\u001b[0m\u001b[1;33m[\u001b[0m\u001b[1;36m0\u001b[0m\u001b[1;33m]\u001b[0m\u001b[1;33m.\u001b[0m\u001b[0mgraph\u001b[0m\u001b[1;33m[\u001b[0m\u001b[1;34m'info'\u001b[0m\u001b[1;33m]\u001b[0m\u001b[1;33m\u001b[0m\u001b[0m\n\u001b[0m",
      "\u001b[1;31mKeyError\u001b[0m: 'info'"
     ]
    }
   ],
   "source": [
    "print cip_graphs[0]."
   ]
  },
  {
   "cell_type": "code",
   "execution_count": 19,
   "metadata": {
    "collapsed": false
   },
   "outputs": [
    {
     "data": {
      "image/png": "[encoded data removed]",
      "text/plain": [
       "<matplotlib.figure.Figure at 0x7fceb76e8450>"
      ]
     },
     "metadata": {},
     "output_type": "display_data"
    }
   ],
   "source": [
    "\n",
    "def add(g,f):\n",
    "    g.add_nodes_from(f.nodes(data=True))\n",
    "    g.add_edges_from(f.edges(data=True))\n",
    "    \n",
    "g=nx.Graph()\n",
    "f=nx.path_graph(4)\n",
    "append(g,f)\n",
    "draw.graphlearn(g)"
   ]
  },
  {
   "cell_type": "code",
   "execution_count": null,
   "metadata": {
    "collapsed": true
   },
   "outputs": [],
   "source": []
  }
 ],
 "metadata": {
  "kernelspec": {
   "display_name": "Python 2",
   "language": "python",
   "name": "python2"
  },
  "language_info": {
   "codemirror_mode": {
    "name": "ipython",
    "version": 2
   },
   "file_extension": ".py",
   "mimetype": "text/x-python",
   "name": "python",
   "nbconvert_exporter": "python",
   "pygments_lexer": "ipython2",
   "version": "2.7.9"
  }
 },
 "nbformat": 4,
 "nbformat_minor": 0
}
