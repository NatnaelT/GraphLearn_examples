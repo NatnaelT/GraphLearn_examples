{
 "cells": [
  {
   "cell_type": "markdown",
   "metadata": {},
   "source": [
    "# Sampling\n",
    "\n",
    "we sample from chemical graphs.\n",
    "\n",
    "First we will fit a sampler and then we will generate new graphs :)\n"
   ]
  },
  {
   "cell_type": "markdown",
   "metadata": {},
   "source": [
    "## initialising logging and notebook"
   ]
  },
  {
   "cell_type": "code",
   "execution_count": null,
   "metadata": {
    "collapsed": false
   },
   "outputs": [],
   "source": [
    "%load_ext autoreload\n",
    "%autoreload 2\n",
    "%matplotlib inline\n",
    "from eden.util import configure_logging\n",
    "import logging\n",
    "configure_logging(logging.getLogger(),verbosity=1)\n",
    "!date"
   ]
  },
  {
   "cell_type": "markdown",
   "metadata": {},
   "source": [
    "## fit sampler i.e. fit estimator and grammar"
   ]
  },
  {
   "cell_type": "code",
   "execution_count": null,
   "metadata": {
    "collapsed": false
   },
   "outputs": [],
   "source": [
    "# get data\n",
    "from eden.converter.graph.gspan import gspan_to_eden\n",
    "from itertools import islice\n",
    "def get_graphs(dataset_fname, size=100):\n",
    "    return  islice(gspan_to_eden(dataset_fname),size)\n",
    "\n",
    "dataset_fname = 'toolsdata/bursi.pos.gspan'"
   ]
  },
  {
   "cell_type": "code",
   "execution_count": null,
   "metadata": {
    "collapsed": false,
    "scrolled": false
   },
   "outputs": [],
   "source": [
    "%%time\n",
    "'''\n",
    "TRAINING A SAMPLER\n",
    "'''\n",
    "from graphlearn.graphlearn import  Sampler\n",
    "from eden.graph import Vectorizer\n",
    "\n",
    "# get training graphs\n",
    "training_graphs = get_graphs(dataset_fname, size=100)\n",
    "\n",
    "# train a sampler\n",
    "sampler=Sampler(radius_list=[0,1], thickness_list=[2],random_state=42447,\n",
    "                          min_cip_count=2, min_interface_count=2,\n",
    "                          vectorizer=Vectorizer(3))\n",
    "sampler.fit(training_graphs)\n",
    "\n",
    "# lets look at a few stats about the trained sampler\n",
    "print('graph grammar stats:')\n",
    "n_instances, interface_counts, core_counts, cip_counts = sampler.grammar().size()\n",
    "print('#instances: %d   #interfaces: %d   #cores: %d   #core-interface-pairs: %d' % (n_instances, interface_counts, core_counts, cip_counts))\n",
    "sampler.save('tmp/sampler.ge')"
   ]
  },
  {
   "cell_type": "markdown",
   "metadata": {},
   "source": [
    "# Sample and show generated graphs"
   ]
  },
  {
   "cell_type": "code",
   "execution_count": null,
   "metadata": {
    "collapsed": false,
    "scrolled": false
   },
   "outputs": [],
   "source": [
    "%%time\n",
    "from itertools import islice\n",
    "\n",
    "\"\"\"\n",
    "USING A SAMPLER\n",
    "\"\"\"\n",
    "# reloading, this is not necessary actually since we sould still have the object in memory \n",
    "from graphlearn.graphlearn import  Sampler\n",
    "sampler=Sampler()\n",
    "sampler.load('tmp/sampler.ge')\n",
    "\n",
    "\n",
    "# get a graph list and pic some graphs to initialize the sampler with.\n",
    "# the sampler will look at each graphs and try n_steps times to alter it.\n",
    "graphs = get_graphs(dataset_fname, size=100)\n",
    "id_start=34\n",
    "id_end=id_start+12\n",
    "input_graphs = islice(graphs,id_start,id_end)\n",
    "\n",
    "# sample parameters\n",
    "n_steps=30 # how many steps\n",
    "n_samples=4 # collect this many samples during the process\n",
    "\n",
    "\n",
    "# sampler will return lists of graphs as you see below.\n",
    "graphs = sampler.sample(input_graphs,\n",
    "                        n_steps=n_steps, n_samples=n_samples,\n",
    "                        target_orig_cip=False,\n",
    "                        probabilistic_core_choice=False,\n",
    "                        score_core_choice= True,\n",
    "                        max_size_diff=1,\n",
    "                        burnin=1,\n",
    "                        include_seed=True,\n",
    "                        proposal_probability = False,\n",
    "                        improving_threshold=.5, \n",
    "                        improving_linear_start=0.0,\n",
    "                        accept_static_penalty=0.0,\n",
    "                        n_jobs=1,\n",
    "                        select_cip_max_tries=200,\n",
    "                        keep_duplicates=True,  \n",
    "                        monitor=True)\n",
    "\n"
   ]
  },
  {
   "cell_type": "code",
   "execution_count": null,
   "metadata": {
    "collapsed": false,
    "scrolled": false
   },
   "outputs": [],
   "source": [
    "%%time\n",
    "# plot examples of sampling paths\n",
    "from graphlearn.utils import draw\n",
    "scores=[]\n",
    "ids=range(id_start,id_end)\n",
    "for i,graphlist in enumerate(graphs):\n",
    "    print 'Graph id: %d'%(ids[i])\n",
    "    scores.append(sampler.monitors[i].sampling_info['score_history'])\n",
    "    draw.graphlearn(graphlist,\n",
    "                   n_graphs_per_line=6, size=7, \n",
    "                   colormap='Paired', invert_colormap=False,node_border=0.5, vertex_color='_labels_',\n",
    "                   vertex_alpha=0.5, edge_alpha=0.2, node_size=450)"
   ]
  },
  {
   "cell_type": "code",
   "execution_count": null,
   "metadata": {
    "collapsed": false,
    "scrolled": false
   },
   "outputs": [],
   "source": [
    "# we sampled with monitoring mode enabled, \n",
    "#this is why we could now look at what exactly happened during sampling\n",
    "#this is step 9 of the 1st graph\n",
    "sampler.monitors[1][9] "
   ]
  },
  {
   "cell_type": "markdown",
   "metadata": {},
   "source": [
    "# Show sample score history"
   ]
  },
  {
   "cell_type": "code",
   "execution_count": null,
   "metadata": {
    "collapsed": false,
    "scrolled": false
   },
   "outputs": [],
   "source": [
    "%%time\n",
    "# plot sampling path score\n",
    "from itertools import islice\n",
    "import numpy as np\n",
    "import pylab as plt\n",
    "markevery=n_steps/(n_samples-1)\n",
    "step=1\n",
    "num_graphs_per_plot=3\n",
    "num_plots=np.ceil([len(scores)/num_graphs_per_plot])\n",
    "for i in range(num_plots):\n",
    "\n",
    "    plt.figure(figsize=(13,5))\n",
    "    for j,score in enumerate(scores[i*num_graphs_per_plot:i*num_graphs_per_plot+num_graphs_per_plot]):\n",
    "     \n",
    "        data = list(islice(score,None, None, step))\n",
    "        plt.plot(data, linewidth=2, label='graph %d'%(j+i*num_graphs_per_plot+id_start))\n",
    "        plt.plot(data, linestyle='None',markevery=markevery, markerfacecolor='white', marker='o', markeredgewidth=2,markersize=6)\n",
    "    plt.legend(loc='lower right')\n",
    "    plt.grid()\n",
    "    plt.xlim(-1,n_steps+1)\n",
    "    plt.ylim(-0.1,1.1)\n",
    "    plt.show()"
   ]
  },
  {
   "cell_type": "markdown",
   "metadata": {},
   "source": [
    "---"
   ]
  },
  {
   "cell_type": "code",
   "execution_count": null,
   "metadata": {
    "collapsed": true
   },
   "outputs": [],
   "source": []
  }
 ],
 "metadata": {
  "kernelspec": {
   "display_name": "Python 2",
   "language": "python",
   "name": "python2"
  },
  "language_info": {
   "codemirror_mode": {
    "name": "ipython",
    "version": 2
   },
   "file_extension": ".py",
   "mimetype": "text/x-python",
   "name": "python",
   "nbconvert_exporter": "python",
   "pygments_lexer": "ipython2",
   "version": "2.7.10"
  }
 },
 "nbformat": 4,
 "nbformat_minor": 0
}
