{
 "cells": [
  {
   "cell_type": "markdown",
   "metadata": {},
   "source": [
    "## circle abstraction for chemical structure graphs\n",
    "In this notebook I show how to use Graphlearn with abstract graphs to generate molecules with an abstraction \n",
    "that deals with circular motives."
   ]
  },
  {
   "cell_type": "markdown",
   "metadata": {},
   "source": [
    "### initialising"
   ]
  },
  {
   "cell_type": "code",
   "execution_count": null,
   "metadata": {
    "collapsed": false
   },
   "outputs": [],
   "source": [
    "%load_ext autoreload\n",
    "%autoreload 2\n",
    "from eden.util import configure_logging\n",
    "import logging\n",
    "debug=True\n",
    "\n",
    "configure_logging(logging.getLogger(),verbosity=1+debug)\n",
    "%matplotlib inline"
   ]
  },
  {
   "cell_type": "markdown",
   "metadata": {},
   "source": [
    "### get_graphs will provide data( networkx graphs )"
   ]
  },
  {
   "cell_type": "code",
   "execution_count": null,
   "metadata": {
    "collapsed": false
   },
   "outputs": [],
   "source": [
    "from eden.converter.graph.gspan import gspan_to_eden\n",
    "from itertools import islice\n",
    "\n",
    "def get_graphs(dataset_fname='../toolsdata/bursi.pos.gspan', size=100):\n",
    "    return  islice(gspan_to_eden(dataset_fname),size)"
   ]
  },
  {
   "cell_type": "markdown",
   "metadata": {},
   "source": [
    "## I demonstrate what an abstract graph looks like \n"
   ]
  },
  {
   "cell_type": "code",
   "execution_count": null,
   "metadata": {
    "collapsed": false,
    "scrolled": false
   },
   "outputs": [],
   "source": [
    "from graphlearn.utils import draw\n",
    "import graphlearn.abstract_graphs.mole.circletransform as mole\n",
    "import graphlearn.abstract_graphs.minordecompose as decompose\n",
    "from graphlearn.graphlearn import Sampler as GLS\n",
    "from eden.graph import Vectorizer\n",
    "\n",
    "# get a graph and prepare it\n",
    "graphs=get_graphs()\n",
    "g=graphs.next()\n",
    "vectorizer=Vectorizer()\n",
    "g=vectorizer._graph_preprocessing(g)\n",
    "make_decomposer = lambda x,y: decompose.MinorDecomposer(x,y,\n",
    "                       include_base=False,\n",
    "                       base_thickness_list=[2])\n",
    "#the preprocessor makes the abstraction, wrapper provides convenient format for drawing\n",
    "preproc=mole.GraphTransformerCircles()\n",
    "preproc.set_param(vectorizer)\n",
    "graph_wrapper=make_decomposer(vectorizer,preproc.wrap(g))\n",
    "graph=graph_wrapper.pre_vectorizer_graph(nested=True)\n",
    "\n",
    "\n",
    "# draw \n",
    "draw.graphlearn(graph,size=10, abstract_color='red', contract=True,ignore_for_layout='nesting')"
   ]
  },
  {
   "cell_type": "markdown",
   "metadata": {},
   "source": [
    "## Here we see different views on a graph, provided by the wrapper,\n",
    "\n",
    "for the sampling process CIPs need to be extracted. \n",
    "here we see this mechanism. "
   ]
  },
  {
   "cell_type": "code",
   "execution_count": null,
   "metadata": {
    "collapsed": false
   },
   "outputs": [],
   "source": [
    "from graphlearn.utils import draw\n",
    "from graphlearn.graphlearn import Sampler as GLS\n",
    "from eden.graph import Vectorizer\n",
    "\n",
    "\n",
    "\n",
    "print 'DEMONSTRATING WRAPPER'\n",
    "graphs=get_graphs()\n",
    "for i in range(1):\n",
    "    print 'grammar example %d' % i\n",
    "    g=graphs.next()\n",
    "    gm=make_decomposer(vectorizer,preproc.wrap(g))\n",
    "    draw.graphlearn([gm.pre_vectorizer_graph(nested=True),gm.abstract_graph(),gm.base_graph()], \n",
    "                    size = 15,\n",
    "                    vertex_label = 'label',\n",
    "                    contract=False)\n",
    "\n",
    "    \n",
    "print 'DEMONSTRATING EXTRACTION'  \n",
    "radius_list=[0,2]\n",
    "thickness_list=[2,4]\n",
    "base_thickness_list=[2]\n",
    "argz=(gm,radius_list,thickness_list,Vectorizer(),2**20-1,lambda x,y:True, base_thickness_list)\n",
    "\n",
    "cips=gm.all_core_interface_pairs(thickness_list=[2],radius_list=[0,1],hash_bitmask=2**20-1)\n",
    "draw.graphlearn(cips[0][0].graph, contract=False)\n",
    "draw.graphlearn(cips[0][1].graph, contract=False)"
   ]
  },
  {
   "cell_type": "markdown",
   "metadata": {},
   "source": [
    "## here we prepare a sampler and then take a closer look at the generated grammar.\n"
   ]
  },
  {
   "cell_type": "code",
   "execution_count": null,
   "metadata": {
    "collapsed": false,
    "scrolled": false
   },
   "outputs": [],
   "source": [
    "%%time\n",
    "from graphlearn.graphlearn import Sampler as GLS\n",
    "graphs = get_graphs(size=200)\n",
    "sampler=GLS(radius_list=[0,1],\n",
    "            thickness_list=[1], \n",
    "            min_cip_count=2, \n",
    "            min_interface_count=2, \n",
    "            decomposer=make_decomposer,\n",
    "            graphtransformer=mole.GraphTransformerCircles())\n",
    "sampler.fit(graphs,grammar_n_jobs=1,grammar_batch_size=1)"
   ]
  },
  {
   "cell_type": "code",
   "execution_count": null,
   "metadata": {
    "collapsed": false,
    "scrolled": false
   },
   "outputs": [],
   "source": [
    "#show congruent cips in grammar\n",
    "draw.draw_grammar(sampler.lsgg.productions,n_productions=5,n_graphs_per_production=5,\n",
    "                     n_graphs_per_line=5, size=9, contract=False,\n",
    "                     colormap='Paired', invert_colormap=False,node_border=1,\n",
    "                     vertex_alpha=0.6, edge_alpha=0.5, node_size=450, abstract_interface=True)"
   ]
  },
  {
   "cell_type": "markdown",
   "metadata": {},
   "source": [
    "## Molecule sampling"
   ]
  },
  {
   "cell_type": "code",
   "execution_count": null,
   "metadata": {
    "collapsed": false,
    "scrolled": false
   },
   "outputs": [],
   "source": [
    "%%time\n",
    "import graphlearn.utils.draw as draw\n",
    "from graphlearn.utils import openbabel\n",
    "import graphlearn.abstract_graphs.mole.circletransform as mole\n",
    "import itertools\n",
    "\n",
    "# parameters\n",
    "graphs = get_graphs()\n",
    "id_start=15\n",
    "id_end=id_start+9\n",
    "graphs = itertools.islice(graphs,id_start,id_end)\n",
    "n_steps=100\n",
    "\n",
    "\n",
    "#sampling\n",
    "graphs = sampler.sample(graphs,\n",
    "                        n_samples=5,\n",
    "                        batch_size=1,\n",
    "                        n_steps=n_steps,\n",
    "                        n_jobs=1,\n",
    "                        quick_skip_orig_cip=True,\n",
    "                        probabilistic_core_choice=False,\n",
    "                        burnin=0,\n",
    "                        improving_threshold=0.5,\n",
    "                        max_size_diff=10,\n",
    "                        select_cip_max_tries=100,\n",
    "                        keep_duplicates=True,\n",
    "                        include_seed=True)\n",
    "\n",
    " \n",
    "scores=[]\n",
    "ids=range(id_start,id_end)\n",
    "for i,path_graphs in enumerate(graphs):\n",
    "    # path_graphs is a list of 'sampled' graphs for 1 run \n",
    "    print 'Graph id: %d'%(ids[i])\n",
    "    #save score\n",
    "    scores.append(sampler.monitors[i].sampling_info['score_history'])\n",
    "    # draw\n",
    "    if debug:\n",
    "        draw.graphlearn(path_graphs,\n",
    "                           n_graphs_per_line=5, size=10, \n",
    "                           colormap='Paired', invert_colormap=False,node_border=0.5, vertex_color='color_level',\n",
    "                           vertex_alpha=0.5, edge_alpha=0.7, node_size=450,edge_label='label'  )\n",
    "    else:\n",
    "        openbabel.draw(path_graphs)"
   ]
  },
  {
   "cell_type": "markdown",
   "metadata": {},
   "source": [
    "## show score history for each samplerun"
   ]
  },
  {
   "cell_type": "code",
   "execution_count": null,
   "metadata": {
    "collapsed": false
   },
   "outputs": [],
   "source": [
    "%matplotlib inline\n",
    "from itertools import islice\n",
    "import numpy as np\n",
    "import matplotlib.pyplot as plt\n",
    "step=1\n",
    "num_graphs_per_plot=3\n",
    "num_plots=np.ceil([len(scores)/num_graphs_per_plot])\n",
    "for i in range(num_plots):\n",
    "    plt.figure(figsize=(10,5))\n",
    "    for j,score in enumerate(scores[i*num_graphs_per_plot:i*num_graphs_per_plot+num_graphs_per_plot]):\n",
    "        data = list(islice(score,None, None, step))\n",
    "        plt.plot(data, label='graph %d'%(j+i*num_graphs_per_plot+id_start))\n",
    "    plt.legend(loc='lower right')\n",
    "    plt.grid()\n",
    "    plt.ylim(-0.1,1.1)\n",
    "    plt.show()"
   ]
  },
  {
   "cell_type": "markdown",
   "metadata": {
    "collapsed": false
   },
   "source": [
    "---"
   ]
  }
 ],
 "metadata": {
  "kernelspec": {
   "display_name": "Python 2",
   "language": "python",
   "name": "python2"
  },
  "language_info": {
   "codemirror_mode": {
    "name": "ipython",
    "version": 2
   },
   "file_extension": ".py",
   "mimetype": "text/x-python",
   "name": "python",
   "nbconvert_exporter": "python",
   "pygments_lexer": "ipython2",
   "version": "2.7.10"
  }
 },
 "nbformat": 4,
 "nbformat_minor": 0
}
