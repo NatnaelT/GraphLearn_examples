{
 "cells": [
  {
   "cell_type": "code",
   "execution_count": null,
   "metadata": {
    "collapsed": false
   },
   "outputs": [],
   "source": [
    "%load_ext autoreload\n",
    "%autoreload 2\n",
    "from eden.util import configure_logging\n",
    "import logging\n",
    "configure_logging(logging.getLogger(),verbosity=2)\n",
    "%matplotlib inline\n",
    "!pwd\n",
    "!date"
   ]
  },
  {
   "cell_type": "code",
   "execution_count": null,
   "metadata": {
    "collapsed": false
   },
   "outputs": [],
   "source": [
    "# get data\n",
    "from itertools import islice\n",
    "'''\n",
    "Create a function that is able to deliver a graph iterator\n",
    "'''\n",
    "\n",
    "\n",
    "from eden.converter.fasta import fasta_to_sequence\n",
    "from eden.converter.rna.rnafold import rnafold_to_eden\n",
    "\n",
    "from eden.graph import Vectorizer\n",
    "def rfam_uri(family_id):\n",
    "    return 'http://rfam.xfam.org/family/%s/alignment?acc=%s&format=fastau&download=0'%(family_id,family_id)\n",
    "\n",
    "\n",
    "def clean(graphs):\n",
    "    for g in graphs:\n",
    "        for n,d in g.nodes(data=True):\n",
    "            if 'weight' in d:\n",
    "                d.pop('weight')\n",
    "        yield g\n",
    "\n",
    "\n",
    "def rfam_uri(family_id):\n",
    "    return '%s.fa'%(family_id)\n",
    "\n",
    "def get_graphs(rfam_id = '../toolsdata/RF00005',size=9999):\n",
    "    seqs = fasta_to_sequence(rfam_uri(rfam_id))\n",
    "    graphs = islice( clean(rnafold_to_eden(seqs, shape_type=5, energy_range=30, max_num=3)), size)\n",
    "    return graphs\n",
    "\n",
    "\n",
    "from eden.converter.fasta import fasta_to_sequence\n",
    "import itertools\n",
    "\n",
    "\n",
    "def get_sequences(size=9999):\n",
    "    sequences = itertools.islice( fasta_to_sequence(\"../toolsdata/RF00005.fa\"), size)\n",
    "    return [ b for (a,b) in sequences ]\n",
    "\n",
    "def get_sequences_with_names(size=9999):\n",
    "    sequences = itertools.islice( fasta_to_sequence(\"../toolsdata/RF00005.fa\"), size)\n",
    "    return sequences\n",
    "\n"
   ]
  },
  {
   "cell_type": "code",
   "execution_count": null,
   "metadata": {
    "collapsed": false,
    "scrolled": false
   },
   "outputs": [],
   "source": [
    "'''DEBUGGING PREPROCESSA'''\n",
    "\n",
    "from graphlearn.utils import draw\n",
    "import graphlearn.abstract_graphs.learned_RNA as learned\n",
    "from eden.graph import Vectorizer\n",
    "if True:\n",
    "    # if we are not interested in what the pp does we can skip this because it is slow\n",
    "    # it shows how the created abstractions look like.\n",
    "    v=Vectorizer(triangular_decomposition=False,complexity=3)\n",
    "    pp=learned.RnaPreProcessor(kmeans_clusters=2,structure_mod=False)\n",
    "    pp.set_param(v)\n",
    "    gm=pp.fit_transform(get_sequences_with_names(40))\n",
    "\n",
    "    for i in range(2):\n",
    "        draw.graphlearn([gm[i+5].graph(),gm[i+5].base_graph(),gm[i+5].abstract_graph()],size=13,contract=True, abstract_color='red')\n",
    "    \n",
    "    \n"
   ]
  },
  {
   "cell_type": "code",
   "execution_count": null,
   "metadata": {
    "collapsed": false,
    "scrolled": false
   },
   "outputs": [],
   "source": [
    "%%time\n",
    "'''\n",
    "learning a grammar\n",
    "'''\n",
    "import graphlearn.abstract_graphs.learned_RNA as learned\n",
    "import graphlearn.abstract_graphs.RNA as rna\n",
    "from graphlearn import feasibility\n",
    "import graphlearn.estimator as estimator\n",
    "graphs = get_sequences_with_names(40)\n",
    "\n",
    "estimator=estimator.Wrapper( nu=.33, cv=2, n_jobs=-1)\n",
    "feas=feasibility.FeasibilityChecker(checklist=[feasibility.default_check,rna.is_rna])\n",
    "\n",
    "pp=learned.RnaPreProcessor(base_thickness_list=[2],kmeans_clusters=3,structure_mod=False)\n",
    "sampler=rna.AbstractSampler(radius_list=[0,1],\n",
    "                            thickness_list=[1], \n",
    "                            min_cip_count=1, \n",
    "                            min_interface_count=2,\n",
    "                            feasibility_checker=feas, \n",
    "                            preprocessor=pp,\n",
    "                            estimator=estimator)\n",
    "sampler.fit(graphs,grammar_n_jobs=1,grammar_batch_size=1)\n",
    "#sampler.save('../tmp/rna_annotate.ge')"
   ]
  },
  {
   "cell_type": "code",
   "execution_count": null,
   "metadata": {
    "collapsed": false,
    "scrolled": false
   },
   "outputs": [],
   "source": [
    "#draw production rules\n",
    "from graphlearn.utils import draw\n",
    "draw.draw_grammar(sampler.lsgg.productions,n_productions=5,n_graphs_per_production=5,\n",
    "                     n_graphs_per_line=5, size=9, contract=False,\n",
    "                     colormap='Paired', invert_colormap=False,node_border=1,\n",
    "                     vertex_alpha=0.6, edge_alpha=0.5, node_size=450, abstract_interface=True)\n"
   ]
  },
  {
   "cell_type": "code",
   "execution_count": null,
   "metadata": {
    "collapsed": false,
    "scrolled": false
   },
   "outputs": [],
   "source": [
    "%%time\n",
    "\n",
    "import os\n",
    "os.nice(19)\n",
    "import graphlearn.utils.draw as draw\n",
    "import itertools\n",
    "\n",
    "graphs = get_sequences()\n",
    "\n",
    "id_start=66\n",
    "id_end=id_start+6\n",
    "graphs = itertools.islice(graphs,id_start,id_end)\n",
    "n_steps=50\n",
    "\n",
    "graphs = sampler.sample(graphs,\n",
    "                        n_samples=4,\n",
    "                        batch_size=1,\n",
    "                        n_steps=n_steps,\n",
    "                        n_jobs=1,\n",
    "                        quick_skip_orig_cip=True,\n",
    "                        probabilistic_core_choice=True,\n",
    "                        burnin=0,\n",
    "                        improving_threshold=0.9,\n",
    "                        improving_linear_start=0.1,\n",
    "                        max_size_diff=20,\n",
    "                        select_cip_max_tries=40,\n",
    "                        keep_duplicates=False,\n",
    "                        accept_min_similarity=0.55,\n",
    "                        include_seed=True,\n",
    "                        backtrack=10,\n",
    "                        monitor=True)\n",
    "\n",
    "\n",
    "scores=[]\n",
    "sequences=[]\n",
    "ids=range(id_start,id_end)\n",
    "for i,path_graphs in enumerate(graphs):\n",
    "    print 'Graph id: %d'%(ids[i])\n",
    "    scores.append(sampler.monitors[i].sampling_info['score_history'])\n",
    "    #path_graphs = graph\n",
    "    sequences.append(sampler.monitors[i].sampling_info['notes'])    \n",
    "    draw.graphlearn(path_graphs,\n",
    "                           n_graphs_per_line=5, size=10, \n",
    "                           colormap='Paired', invert_colormap=False,node_border=0.5, vertex_color='color_level',\n",
    "                           vertex_alpha=0.5, edge_alpha=0.7, node_size=450,edge_label='label'\n",
    "                          )"
   ]
  },
  {
   "cell_type": "code",
   "execution_count": null,
   "metadata": {
    "collapsed": false
   },
   "outputs": [],
   "source": []
  },
  {
   "cell_type": "code",
   "execution_count": null,
   "metadata": {
    "collapsed": false
   },
   "outputs": [],
   "source": [
    "colors=['b','g','r','c','m','y','k','w']\n",
    "\n",
    "%matplotlib inline\n",
    "from itertools import islice\n",
    "import matplotlib.pyplot as plt\n",
    "import numpy as np\n",
    "step=1\n",
    "num_graphs_per_plot=3\n",
    "num_plots=np.ceil([len(scores)/num_graphs_per_plot])\n",
    "for i in range(num_plots):\n",
    "    plt.figure(figsize=(10,5))\n",
    "    for j,score in enumerate(scores[i*num_graphs_per_plot:i*num_graphs_per_plot+num_graphs_per_plot]):\n",
    "        data = list(islice(score,None, None, step))\n",
    "        plt.plot(data,ls='-',color=colors[j], label='graph %d'%(j+i*num_graphs_per_plot+id_start))\n",
    "        \n",
    "        # okok now we need to add the infernal evaluation\n",
    "        seqs=sequences[i*num_graphs_per_plot+j]\n",
    "        seqs=seqs.split('n')\n",
    "        \n",
    "        # SEQUENCES STILL CONTAIN F, ALSO THERE ARE ERRORMESSAGES AT THE END OF INFO\n",
    "        #seqs=seqs[:-1]\n",
    "    \n",
    "        #print seqs\n",
    "        data2= rna.infernal_checker(seqs,cmfile='../rf00005.cm')\n",
    "        \n",
    "        #print data2,seqs\n",
    "        plt.plot(data2,ls='--',color=colors[j], label='graph %d infernal score'%(j+i*num_graphs_per_plot+id_start))\n",
    "    \n",
    "    plt.legend(loc='lower right')\n",
    "    plt.grid()\n",
    "    plt.ylim(-0.1,1.1)\n",
    "    plt.show()"
   ]
  },
  {
   "cell_type": "code",
   "execution_count": null,
   "metadata": {
    "collapsed": true
   },
   "outputs": [],
   "source": []
  }
 ],
 "metadata": {
  "kernelspec": {
   "display_name": "Python 2",
   "language": "python",
   "name": "python2"
  },
  "language_info": {
   "codemirror_mode": {
    "name": "ipython",
    "version": 2
   },
   "file_extension": ".py",
   "mimetype": "text/x-python",
   "name": "python",
   "nbconvert_exporter": "python",
   "pygments_lexer": "ipython2",
   "version": "2.7.10"
  }
 },
 "nbformat": 4,
 "nbformat_minor": 0
}
