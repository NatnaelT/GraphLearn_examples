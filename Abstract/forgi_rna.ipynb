{
 "cells": [
  {
   "cell_type": "markdown",
   "metadata": {
    "collapsed": false
   },
   "source": [
    "## sampling RNA, with secondary structure elements to induce graph minor "
   ]
  },
  {
   "cell_type": "markdown",
   "metadata": {},
   "source": [
    "#### initialize"
   ]
  },
  {
   "cell_type": "code",
   "execution_count": null,
   "metadata": {
    "collapsed": false
   },
   "outputs": [],
   "source": [
    "%load_ext autoreload\n",
    "%autoreload 2\n",
    "from eden.util import configure_logging\n",
    "import logging\n",
    "configure_logging(logging.getLogger(),verbosity=2)\n",
    "%matplotlib inline"
   ]
  },
  {
   "cell_type": "markdown",
   "metadata": {},
   "source": [
    "#### GET RNA DATA"
   ]
  },
  {
   "cell_type": "code",
   "execution_count": null,
   "metadata": {
    "collapsed": false
   },
   "outputs": [],
   "source": [
    "from eden.converter.fasta import fasta_to_sequence\n",
    "import itertools\n",
    "\n",
    "def rfam_uri(family_id):\n",
    "    return 'http://rfam.xfam.org/family/%s/alignment?acc=%s&format=fastau&download=0'%(family_id,family_id)\n",
    "def rfam_uri(family_id):\n",
    "    return '%s.fa'%(family_id)\n",
    "\n",
    "def get_sequences(size=9999,withoutnames=False):\n",
    "    sequences = itertools.islice( fasta_to_sequence(\"../toolsdata/RF00005.fa\"), size)\n",
    "    if withoutnames:\n",
    "        return [ b for (a,b) in sequences ]\n",
    "    return sequences"
   ]
  },
  {
   "cell_type": "markdown",
   "metadata": {},
   "source": [
    "## TESTING EXTRACTION AND GRAPHMANAGER"
   ]
  },
  {
   "cell_type": "code",
   "execution_count": null,
   "metadata": {
    "collapsed": false,
    "scrolled": false
   },
   "outputs": [],
   "source": [
    "from graphlearn.utils import draw\n",
    "import graphlearn.abstract_graphs.rna.RNA as rna\n",
    "from graphlearn.graphlearn import Sampler as GLS\n",
    "from eden.graph import Vectorizer\n",
    "\n",
    "vectorizer=Vectorizer()\n",
    "pp=rna.PreProcessor(ignore_inserts=True)\n",
    "pp.fit(get_sequences(),vectorizer)\n",
    "graphmanagers=pp.transform(get_sequences(withoutnames=True)[:20])\n",
    "\n",
    "print 'DEMONSTRATING GRAPH MANAGER'\n",
    "\n",
    "for i in [4]:\n",
    "    print 'grammar example %d' % i\n",
    "    gm=graphmanagers[i]\n",
    "    g=gm.pre_vectorizer_graph(nested=True)\n",
    "    draw.graphlearn([gm.pre_vectorizer_graph(nested=True),gm.abstract_graph(),gm.base_graph()], size = 15,vertex_label = 'label',contract=False)\n",
    "    draw.graphlearn([gm.base_graph()], size = 15,vertex_label = 'label',contract=True)\n",
    "    \n",
    "    print gm.sequence\n",
    "    print gm.structure"
   ]
  },
  {
   "cell_type": "markdown",
   "metadata": {
    "collapsed": false,
    "scrolled": false
   },
   "source": [
    "## creating grammar and estimator"
   ]
  },
  {
   "cell_type": "code",
   "execution_count": null,
   "metadata": {
    "collapsed": false,
    "scrolled": false
   },
   "outputs": [],
   "source": [
    "%%time\n",
    "import graphlearn.abstract_graphs.rna.RNA as rna\n",
    "from  graphlearn.feasibility import FeasibilityChecker as Checker\n",
    "import graphlearn.estimate as estimate\n",
    "# not really needed since after refolding we get an RNA\n",
    "#feasibility=Checker()\n",
    "#feasibility.checklist.append(rna.is_rna)\n",
    "graphs = get_sequences(size=100)\n",
    "estimator=estimate.OneClassEstimator( nu=.33, cv=2, n_jobs=-1)\n",
    "sampler=rna.AbstractSampler(radius_list=[0,1],\n",
    "                            thickness_list=[2], \n",
    "                            min_cip_count=1, \n",
    "                            min_interface_count=2, \n",
    "                            preprocessor=rna.PreProcessor(base_thickness_list=[1],ignore_inserts=True), \n",
    "                            postprocessor=rna.PostProcessor(),\n",
    "                            estimator=estimator\n",
    "                            #feasibility_checker=feasibility\n",
    "                           )\n",
    "sampler.fit(graphs,grammar_n_jobs=1,grammar_batch_size=1)\n",
    "sampler.save('../tmp/rna_ubergrammar.ge')"
   ]
  },
  {
   "cell_type": "code",
   "execution_count": null,
   "metadata": {
    "collapsed": false,
    "scrolled": false
   },
   "outputs": [],
   "source": [
    "#draw production rules\n",
    "draw.draw_grammar(sampler.lsgg.productions,n_productions=5,n_graphs_per_production=5,\n",
    "                     n_graphs_per_line=6, size=10, contract=False,\n",
    "                     colormap='Paired', invert_colormap=False,node_border=1,\n",
    "                     vertex_alpha=0.6, edge_alpha=0.5, node_size=250, abstract_interface=True)"
   ]
  },
  {
   "cell_type": "markdown",
   "metadata": {},
   "source": [
    "## Sample"
   ]
  },
  {
   "cell_type": "code",
   "execution_count": null,
   "metadata": {
    "collapsed": false,
    "scrolled": false
   },
   "outputs": [],
   "source": [
    "%%time\n",
    "import graphlearn.utils.draw as draw\n",
    "import graphlearn.abstract_graphs.rna.RNA as rna\n",
    "from graphlearn.graphlearn import Sampler as GLS\n",
    "import itertools\n",
    "\n",
    "# parameters and data\n",
    "sequences = get_sequences(withoutnames=True)\n",
    "id_start=66\n",
    "id_end=id_start+3\n",
    "sequences = sequences[id_start:id_end]\n",
    "n_steps=50\n",
    "\n",
    "\n",
    "graphs = sampler.sample(sequences,\n",
    "                        n_samples=3,\n",
    "                        batch_size=1,\n",
    "                        n_steps=n_steps,\n",
    "                        n_jobs=1,\n",
    "                        quick_skip_orig_cip=True,\n",
    "                        probabilistic_core_choice=True,\n",
    "                        burnin=0,\n",
    "                        improving_threshold=0.7,\n",
    "                        improving_linear_start=0.2,\n",
    "                        max_size_diff=20,\n",
    "                        accept_min_similarity=0.65,\n",
    "                        select_cip_max_tries=30,\n",
    "                        keep_duplicates=False,\n",
    "                        include_seed=True,\n",
    "                        backtrack=10,\n",
    "                        monitor=True)\n",
    "\n",
    "\n",
    "from eden.modifier.graph.vertex_attributes import colorize   \n",
    "scores=[]\n",
    "sequences=[]\n",
    "ids=range(id_start,id_end)\n",
    "for i,graphlist in enumerate(graphs):\n",
    "    print 'Graph id: %d'%(ids[i])\n",
    "    scores.append(sampler.monitors[i].sampling_info['score_history'])\n",
    "    sequences.append(sampler.monitors[i].sampling_info['notes'])\n",
    "    #path_graphs = colorize(graphlist,\n",
    "    #                       output_attribute = 'color_level', \n",
    "    #                       labels = ['A','U','G','C'])\n",
    "    print 'going to draw'\n",
    "    draw.graphlearn(graphlist,\n",
    "                           n_graphs_per_line=3, size=20, contract=True,\n",
    "                           colormap='Paired', invert_colormap=False,node_border=0.5, vertex_color='color_level',\n",
    "                           vertex_alpha=0.5, edge_alpha=0.7, node_size=450,edge_label='label', layout=\"RNA\")"
   ]
  },
  {
   "cell_type": "markdown",
   "metadata": {
    "collapsed": false
   },
   "source": [
    "## draw the score history for each of the graphsv"
   ]
  },
  {
   "cell_type": "code",
   "execution_count": null,
   "metadata": {
    "collapsed": false,
    "scrolled": false
   },
   "outputs": [],
   "source": [
    "colors=['b','g','r','c','m','y','k','w']\n",
    "\n",
    "%matplotlib inline\n",
    "from itertools import islice\n",
    "import matplotlib.pyplot as plt\n",
    "import numpy as np\n",
    "step=1\n",
    "num_graphs_per_plot=2\n",
    "num_plots=np.ceil([len(scores)/num_graphs_per_plot])\n",
    "for i in range(num_plots):\n",
    "    plt.figure(figsize=(10,5))\n",
    "    for j,score in enumerate(scores[i*num_graphs_per_plot:i*num_graphs_per_plot+num_graphs_per_plot]):\n",
    "        data = list(islice(score,None, None, step))\n",
    "        plt.plot(data,ls='-',color=colors[j], label='graph %d'%(j+i*num_graphs_per_plot+id_start))\n",
    "\n",
    "        # okok now we need to add the infernal evaluation\n",
    "        seqs=sequences[i*num_graphs_per_plot+j]\n",
    "        seqs=seqs.split('n')\n",
    "        \n",
    "        # SEQUENCES STILL CONTAIN F, ALSO THERE ARE ERRORMESSAGES AT THE END OF INFO\n",
    "        #seqs=seqs[:-1]\n",
    "    \n",
    "        #print seqs\n",
    "        data2= rna.infernal_checker(seqs,cmfile='../rf00005.cm')\n",
    "        #print data2,seqs\n",
    "        plt.plot(data2,ls='--',color=colors[j], label='infernal %d'%(j+i*num_graphs_per_plot+id_start))\n",
    "    plt.plot([0.29]*len(data2),ls='-.',color='r', label='significance') #| '-' | '--' | '-.' | ':' | 'None' | ' ' |\n",
    "    plt.legend(loc='lower left',framealpha=0.5)\n",
    "    plt.grid()\n",
    "    plt.ylim(-0.1,1.1)\n",
    "    plt.show()"
   ]
  },
  {
   "cell_type": "code",
   "execution_count": null,
   "metadata": {
    "collapsed": true
   },
   "outputs": [],
   "source": []
  }
 ],
 "metadata": {
  "kernelspec": {
   "display_name": "Python 2",
   "language": "python",
   "name": "python2"
  },
  "language_info": {
   "codemirror_mode": {
    "name": "ipython",
    "version": 2
   },
   "file_extension": ".py",
   "mimetype": "text/x-python",
   "name": "python",
   "nbconvert_exporter": "python",
   "pygments_lexer": "ipython2",
   "version": "2.7.10"
  }
 },
 "nbformat": 4,
 "nbformat_minor": 0
}
